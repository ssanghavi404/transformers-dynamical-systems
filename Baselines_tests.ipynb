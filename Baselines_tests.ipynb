{
 "cells": [
  {
   "cell_type": "markdown",
   "metadata": {
    "id": "oWRzstnyuKc9"
   },
   "source": [
    "# Learning Discrete-Time Estimation and Control with Transformers"
   ]
  },
  {
   "cell_type": "code",
   "execution_count": 3,
   "metadata": {
    "id": "asHGUAgpuKdE"
   },
   "outputs": [],
   "source": [
    "import numpy as np\n",
    "import torch\n",
    "torch.set_default_tensor_type(torch.DoubleTensor)\n",
    "rng = np.random.default_rng()\n",
    "\n",
    "from kalman_filter import *\n",
    "from helpers import *\n",
    "from plotting import *\n",
    "from trajectories import *\n",
    "\n",
    "CUT = 5 # cutoff the first few datapoints because they have too much noise so it is not a fair comparison.\n",
    "T = 250 # how long to simulate the trajectory # 100\n",
    "num_traj_train = 100; num_traj_test = 20\n",
    "num_traj = num_traj_train + num_traj_test"
   ]
  },
  {
   "cell_type": "markdown",
   "metadata": {
    "id": "hY_3WVBNuKdG"
   },
   "source": [
    "# State Estimation: Continuous State Space \n",
    "\n",
    "Dynamical System:\n",
    "\n",
    "$\\vec{x}_{t+1} = A\\vec{x}_t + B \\vec{u}_t + \\vec{w}_t$ is the Transition Model, where $\\vec{w}_t \\sim \\mathcal{N}(\\vec{0}, Q)$ is process noise\n",
    "\n",
    "$\\vec{y}_t = C\\vec{x}_t + \\vec{v}_t$ is Observation Model, where $\\vec{v}_t \\sim \\mathcal{N}(\\vec{0}, R)$ is sensor noise"
   ]
  },
  {
   "cell_type": "markdown",
   "metadata": {
    "id": "Y5-fmGELuKdH"
   },
   "source": [
    "## Generate Trajectories"
   ]
  },
  {
   "cell_type": "code",
   "execution_count": 4,
   "metadata": {
    "id": "i0YLwOmJuKdJ"
   },
   "outputs": [],
   "source": [
    "task_name = 'smd' # Choose from 'so2', 'motion', 'so3', 'accel', 'smd'\n",
    "A, B, C, Q, R, x0, state_dim, input_dim, obs_dim = sys_params[task_name]\n",
    "\n",
    "u_seq = 0.05 * (rng.random(size=(num_traj, T, input_dim))*2 - 1)\n",
    "traj, meas = generate_traj(num_traj, T, A, B, C, Q, R, x0, u_seq, state_dim, input_dim, obs_dim)\n",
    "# traj  has shape=(num_traj, T, state_dim)\n",
    "# meas  has shape=(num_traj, T, obs_dim)\n",
    "# u_seq has shape=(num_traj, T, input_dim)"
   ]
  },
  {
   "cell_type": "code",
   "execution_count": 5,
   "metadata": {
    "colab": {
     "base_uri": "https://localhost:8080/",
     "height": 430
    },
    "id": "1ntUducAuKdK",
    "outputId": "7ee492ff-1d9f-410e-903a-8516b9c668b2"
   },
   "outputs": [
    {
     "name": "stdout",
     "output_type": "stream",
     "text": [
      "Trajectory shape (250, 2)\n",
      "Measured shape (250, 1)\n"
     ]
    },
    {
     "data": {
      "image/png": "[encoded data removed]",
      "text/plain": [
       "<Figure size 432x288 with 1 Axes>"
      ]
     },
     "metadata": {
      "needs_background": "light"
     },
     "output_type": "display_data"
    }
   ],
   "source": [
    "# plot a sample trajectory and noisy measurements\n",
    "plot({'Trajectory': traj[0], 'Measured': meas[0]})"
   ]
  },
  {
   "cell_type": "markdown",
   "metadata": {},
   "source": [
    "## 0. Optimization Based Approach using known A, B, C to get best possible fit\n",
    "\n",
    "This is the baseline for BERT"
   ]
  },
  {
   "cell_type": "code",
   "execution_count": 41,
   "metadata": {
    "scrolled": false
   },
   "outputs": [
    {
     "name": "stdout",
     "output_type": "stream",
     "text": [
      "Solving problem 0\n",
      "Solving problem 1\n",
      "Solving problem 2\n",
      "Solving problem 3\n",
      "Solving problem 4\n",
      "Solving problem 5\n",
      "Solving problem 6\n",
      "Solving problem 7\n",
      "Solving problem 8\n",
      "Solving problem 9\n",
      "Solving problem 10\n",
      "Solving problem 11\n",
      "Solving problem 12\n",
      "Solving problem 13\n",
      "Solving problem 14\n",
      "Solving problem 15\n",
      "Solving problem 16\n",
      "Solving problem 17\n",
      "Solving problem 18\n",
      "Solving problem 19\n",
      "Solving problem 20\n",
      "Solving problem 21\n",
      "Solving problem 22\n",
      "Solving problem 23\n",
      "Solving problem 24\n",
      "Solving problem 25\n",
      "Solving problem 26\n",
      "Solving problem 27\n",
      "Solving problem 28\n",
      "Solving problem 29\n",
      "Solving problem 30\n",
      "Solving problem 31\n",
      "Solving problem 32\n",
      "Solving problem 33\n",
      "Solving problem 34\n",
      "Solving problem 35\n",
      "Solving problem 36\n",
      "Solving problem 37\n",
      "Solving problem 38\n",
      "Solving problem 39\n",
      "Solving problem 40\n",
      "Solving problem 41\n",
      "Solving problem 42\n",
      "Solving problem 43\n",
      "Solving problem 44\n",
      "Solving problem 45\n",
      "Solving problem 46\n",
      "Solving problem 47\n",
      "Solving problem 48\n",
      "Solving problem 49\n",
      "Solving problem 50\n",
      "Solving problem 51\n",
      "Solving problem 52\n",
      "Solving problem 53\n",
      "Solving problem 54\n",
      "Solving problem 55\n",
      "Solving problem 56\n",
      "Solving problem 57\n",
      "Solving problem 58\n",
      "Solving problem 59\n",
      "Solving problem 60\n",
      "Solving problem 61\n",
      "Solving problem 62\n",
      "Solving problem 63\n",
      "Solving problem 64\n",
      "Solving problem 65\n",
      "Solving problem 66\n",
      "Solving problem 67\n",
      "Solving problem 68\n",
      "Solving problem 69\n",
      "Solving problem 70\n",
      "Solving problem 71\n",
      "Solving problem 72\n",
      "Solving problem 73\n",
      "Solving problem 74\n",
      "Solving problem 75\n",
      "Solving problem 76\n",
      "Solving problem 77\n",
      "Solving problem 78\n",
      "Solving problem 79\n",
      "Solving problem 80\n",
      "Solving problem 81\n",
      "Solving problem 82\n",
      "Solving problem 83\n",
      "Solving problem 84\n",
      "Solving problem 85\n",
      "Solving problem 86\n",
      "Solving problem 87\n",
      "Solving problem 88\n",
      "Solving problem 89\n",
      "Solving problem 90\n",
      "Solving problem 91\n",
      "Solving problem 92\n",
      "Solving problem 93\n",
      "Solving problem 94\n",
      "Solving problem 95\n",
      "Solving problem 96\n",
      "Solving problem 97\n",
      "Solving problem 98\n",
      "Solving problem 99\n",
      "Solving problem 100\n",
      "Solving problem 101\n",
      "Solving problem 102\n",
      "Solving problem 103\n",
      "Solving problem 104\n",
      "Solving problem 105\n",
      "Solving problem 106\n",
      "Solving problem 107\n",
      "Solving problem 108\n",
      "Solving problem 109\n",
      "Solving problem 110\n",
      "Solving problem 111\n",
      "Solving problem 112\n",
      "Solving problem 113\n",
      "Solving problem 114\n",
      "Solving problem 115\n",
      "Solving problem 116\n",
      "Solving problem 117\n",
      "Solving problem 118\n",
      "Solving problem 119\n",
      "Average Squared Error 0.0017766321911474251\n"
     ]
    }
   ],
   "source": [
    "err_opt = 0\n",
    "ls_rec = np.zeros(shape=(num_traj, T, state_dim))\n",
    "\n",
    "for i in range(num_traj):\n",
    "    print(\"Solving problem\", i)\n",
    "    ls_rec[i] = optimal_traj(A, B, C, Q, R, meas[i], x0, u_seq[i])\n",
    "\n",
    "err_opt += np.linalg.norm(ls_rec - traj)**2 / T / num_traj\n",
    "    \n",
    "print(\"Average Squared Error\", err_opt)"
   ]
  },
  {
   "cell_type": "markdown",
   "metadata": {
    "id": "bfwa6dbSuKdL"
   },
   "source": [
    "## 1. Kalman Filtering using known A, B, C to estimate $\\mathbb{E}[X_t | y_1, y_2, ... y_n]$"
   ]
  },
  {
   "cell_type": "markdown",
   "metadata": {
    "id": "GITzYUgYuKdM"
   },
   "source": [
    "### 1a. Recalculating gains at each timestep until convergence"
   ]
  },
  {
   "cell_type": "code",
   "execution_count": 42,
   "metadata": {
    "colab": {
     "base_uri": "https://localhost:8080/",
     "height": 812
    },
    "id": "sxpNpH_huKdM",
    "outputId": "78e6ed3c-5642-4754-b729-9826036062d9"
   },
   "outputs": [
    {
     "name": "stdout",
     "output_type": "stream",
     "text": [
      "Converged in 77 iterations\n",
      "Converged in 77 iterations\n",
      "Converged in 77 iterations\n",
      "Converged in 77 iterations\n",
      "Converged in 77 iterations\n",
      "Converged in 77 iterations\n",
      "Converged in 77 iterations\n",
      "Converged in 77 iterations\n",
      "Converged in 77 iterations\n",
      "Converged in 77 iterations\n",
      "Converged in 77 iterations\n",
      "Converged in 77 iterations\n",
      "Converged in 77 iterations\n",
      "Converged in 77 iterations\n",
      "Converged in 77 iterations\n",
      "Converged in 77 iterations\n",
      "Converged in 77 iterations\n",
      "Converged in 77 iterations\n",
      "Converged in 77 iterations\n",
      "Converged in 77 iterations\n",
      "Converged in 77 iterations\n",
      "Converged in 77 iterations\n",
      "Converged in 77 iterations\n",
      "Converged in 77 iterations\n",
      "Converged in 77 iterations\n",
      "Converged in 77 iterations\n",
      "Converged in 77 iterations\n",
      "Converged in 77 iterations\n",
      "Converged in 77 iterations\n",
      "Converged in 77 iterations\n",
      "Converged in 77 iterations\n",
      "Converged in 77 iterations\n",
      "Converged in 77 iterations\n",
      "Converged in 77 iterations\n",
      "Converged in 77 iterations\n",
      "Converged in 77 iterations\n",
      "Converged in 77 iterations\n",
      "Converged in 77 iterations\n",
      "Converged in 77 iterations\n",
      "Converged in 77 iterations\n",
      "Converged in 77 iterations\n",
      "Converged in 77 iterations\n",
      "Converged in 77 iterations\n",
      "Converged in 77 iterations\n",
      "Converged in 77 iterations\n",
      "Converged in 77 iterations\n",
      "Converged in 77 iterations\n",
      "Converged in 77 iterations\n",
      "Converged in 77 iterations\n",
      "Converged in 77 iterations\n",
      "Converged in 77 iterations\n",
      "Converged in 77 iterations\n",
      "Converged in 77 iterations\n",
      "Converged in 77 iterations\n",
      "Converged in 77 iterations\n",
      "Converged in 77 iterations\n",
      "Converged in 77 iterations\n",
      "Converged in 77 iterations\n",
      "Converged in 77 iterations\n",
      "Converged in 77 iterations\n",
      "Converged in 77 iterations\n",
      "Converged in 77 iterations\n",
      "Converged in 77 iterations\n",
      "Converged in 77 iterations\n",
      "Converged in 77 iterations\n",
      "Converged in 77 iterations\n",
      "Converged in 77 iterations\n",
      "Converged in 77 iterations\n",
      "Converged in 77 iterations\n",
      "Converged in 77 iterations\n",
      "Converged in 77 iterations\n",
      "Converged in 77 iterations\n",
      "Converged in 77 iterations\n",
      "Converged in 77 iterations\n",
      "Converged in 77 iterations\n",
      "Converged in 77 iterations\n",
      "Converged in 77 iterations\n",
      "Converged in 77 iterations\n",
      "Converged in 77 iterations\n",
      "Converged in 77 iterations\n",
      "Converged in 77 iterations\n",
      "Converged in 77 iterations\n",
      "Converged in 77 iterations\n",
      "Converged in 77 iterations\n",
      "Converged in 77 iterations\n",
      "Converged in 77 iterations\n",
      "Converged in 77 iterations\n",
      "Converged in 77 iterations\n",
      "Converged in 77 iterations\n",
      "Converged in 77 iterations\n",
      "Converged in 77 iterations\n",
      "Converged in 77 iterations\n",
      "Converged in 77 iterations\n",
      "Converged in 77 iterations\n",
      "Converged in 77 iterations\n",
      "Converged in 77 iterations\n",
      "Converged in 77 iterations\n",
      "Converged in 77 iterations\n",
      "Converged in 77 iterations\n",
      "Converged in 77 iterations\n",
      "Converged in 77 iterations\n",
      "Converged in 77 iterations\n",
      "Converged in 77 iterations\n",
      "Converged in 77 iterations\n",
      "Converged in 77 iterations\n",
      "Converged in 77 iterations\n",
      "Converged in 77 iterations\n",
      "Converged in 77 iterations\n",
      "Converged in 77 iterations\n",
      "Converged in 77 iterations\n",
      "Converged in 77 iterations\n",
      "Converged in 77 iterations\n",
      "Converged in 77 iterations\n",
      "Converged in 77 iterations\n",
      "Converged in 77 iterations\n",
      "Converged in 77 iterations\n",
      "Converged in 77 iterations\n",
      "Converged in 77 iterations\n",
      "Converged in 77 iterations\n",
      "Converged in 77 iterations\n",
      "Average Squared Error: 0.0030914814648893567\n"
     ]
    }
   ],
   "source": [
    "kfiltered = np.zeros(shape=(num_traj, T, state_dim))\n",
    "\n",
    "for i in range(num_traj):\n",
    "    kinematics_forward = KFilter(A, B, C, Q, R, state=x0)\n",
    "    kfiltered[i] = kinematics_forward.simulate(meas[i], u_seq[i])\n",
    "    \n",
    "err_fltr = np.linalg.norm(kfiltered - traj)**2 / num_traj / T\n",
    "    \n",
    "print(\"Average Squared Error:\", err_fltr)"
   ]
  },
  {
   "cell_type": "code",
   "execution_count": 43,
   "metadata": {},
   "outputs": [
    {
     "name": "stdout",
     "output_type": "stream",
     "text": [
      "Trajectory shape (250, 2)\n",
      "Measured shape (250, 1)\n",
      "Filtered shape (250, 2)\n"
     ]
    },
    {
     "data": {
      "image/png": "[encoded data removed]",
      "text/plain": [
       "<Figure size 432x288 with 1 Axes>"
      ]
     },
     "metadata": {
      "needs_background": "light"
     },
     "output_type": "display_data"
    }
   ],
   "source": [
    "plot({'Trajectory': traj[0], 'Measured': meas[0], 'Filtered': kfiltered[0]})"
   ]
  },
  {
   "cell_type": "markdown",
   "metadata": {
    "id": "60MZKlivuKdN"
   },
   "source": [
    "### 1b. Kalman Filter with pure steady state gains"
   ]
  },
  {
   "cell_type": "code",
   "execution_count": 44,
   "metadata": {
    "colab": {
     "base_uri": "https://localhost:8080/",
     "height": 812
    },
    "id": "wiowWWmTuKdN",
    "outputId": "2c16a8e8-2b31-4a3e-f490-022bab735890"
   },
   "outputs": [
    {
     "name": "stdout",
     "output_type": "stream",
     "text": [
      "Converged in 0 iterations\n",
      "Converged in 0 iterations\n",
      "Converged in 0 iterations\n",
      "Converged in 0 iterations\n",
      "Converged in 0 iterations\n",
      "Converged in 0 iterations\n",
      "Converged in 0 iterations\n",
      "Converged in 0 iterations\n",
      "Converged in 0 iterations\n",
      "Converged in 0 iterations\n",
      "Converged in 0 iterations\n",
      "Converged in 0 iterations\n",
      "Converged in 0 iterations\n",
      "Converged in 0 iterations\n",
      "Converged in 0 iterations\n",
      "Converged in 0 iterations\n",
      "Converged in 0 iterations\n",
      "Converged in 0 iterations\n",
      "Converged in 0 iterations\n",
      "Converged in 0 iterations\n",
      "Converged in 0 iterations\n",
      "Converged in 0 iterations\n",
      "Converged in 0 iterations\n",
      "Converged in 0 iterations\n",
      "Converged in 0 iterations\n",
      "Converged in 0 iterations\n",
      "Converged in 0 iterations\n",
      "Converged in 0 iterations\n",
      "Converged in 0 iterations\n",
      "Converged in 0 iterations\n",
      "Converged in 0 iterations\n",
      "Converged in 0 iterations\n",
      "Converged in 0 iterations\n",
      "Converged in 0 iterations\n",
      "Converged in 0 iterations\n",
      "Converged in 0 iterations\n",
      "Converged in 0 iterations\n",
      "Converged in 0 iterations\n",
      "Converged in 0 iterations\n",
      "Converged in 0 iterations\n",
      "Converged in 0 iterations\n",
      "Converged in 0 iterations\n",
      "Converged in 0 iterations\n",
      "Converged in 0 iterations\n",
      "Converged in 0 iterations\n",
      "Converged in 0 iterations\n",
      "Converged in 0 iterations\n",
      "Converged in 0 iterations\n",
      "Converged in 0 iterations\n",
      "Converged in 0 iterations\n",
      "Converged in 0 iterations\n",
      "Converged in 0 iterations\n",
      "Converged in 0 iterations\n",
      "Converged in 0 iterations\n",
      "Converged in 0 iterations\n",
      "Converged in 0 iterations\n",
      "Converged in 0 iterations\n",
      "Converged in 0 iterations\n",
      "Converged in 0 iterations\n",
      "Converged in 0 iterations\n",
      "Converged in 0 iterations\n",
      "Converged in 0 iterations\n",
      "Converged in 0 iterations\n",
      "Converged in 0 iterations\n",
      "Converged in 0 iterations\n",
      "Converged in 0 iterations\n",
      "Converged in 0 iterations\n",
      "Converged in 0 iterations\n",
      "Converged in 0 iterations\n",
      "Converged in 0 iterations\n",
      "Converged in 0 iterations\n",
      "Converged in 0 iterations\n",
      "Converged in 0 iterations\n",
      "Converged in 0 iterations\n",
      "Converged in 0 iterations\n",
      "Converged in 0 iterations\n",
      "Converged in 0 iterations\n",
      "Converged in 0 iterations\n",
      "Converged in 0 iterations\n",
      "Converged in 0 iterations\n",
      "Converged in 0 iterations\n",
      "Converged in 0 iterations\n",
      "Converged in 0 iterations\n",
      "Converged in 0 iterations\n",
      "Converged in 0 iterations\n",
      "Converged in 0 iterations\n",
      "Converged in 0 iterations\n",
      "Converged in 0 iterations\n",
      "Converged in 0 iterations\n",
      "Converged in 0 iterations\n",
      "Converged in 0 iterations\n",
      "Converged in 0 iterations\n",
      "Converged in 0 iterations\n",
      "Converged in 0 iterations\n",
      "Converged in 0 iterations\n",
      "Converged in 0 iterations\n",
      "Converged in 0 iterations\n",
      "Converged in 0 iterations\n",
      "Converged in 0 iterations\n",
      "Converged in 0 iterations\n",
      "Converged in 0 iterations\n",
      "Converged in 0 iterations\n",
      "Converged in 0 iterations\n",
      "Converged in 0 iterations\n",
      "Converged in 0 iterations\n",
      "Converged in 0 iterations\n",
      "Converged in 0 iterations\n",
      "Converged in 0 iterations\n",
      "Converged in 0 iterations\n",
      "Converged in 0 iterations\n",
      "Converged in 0 iterations\n",
      "Converged in 0 iterations\n",
      "Converged in 0 iterations\n",
      "Converged in 0 iterations\n",
      "Converged in 0 iterations\n",
      "Converged in 0 iterations\n",
      "Converged in 0 iterations\n",
      "Converged in 0 iterations\n",
      "Converged in 0 iterations\n",
      "Converged in 0 iterations\n",
      "Average Squared Error 0.0031155271658522706\n"
     ]
    }
   ],
   "source": [
    "kfiltered_ss = np.zeros(shape=(num_traj, T, state_dim))\n",
    "\n",
    "for i in range(num_traj):\n",
    "    kinematics_forward = KFilter(A, B, C, Q, R, state=x0)\n",
    "    kinematics_forward.run_till_ss()\n",
    "    kfiltered_ss[i] = kinematics_forward.simulate(meas[i], u_seq[i])\n",
    "    \n",
    "err_fltr_ss = np.linalg.norm(kfiltered_ss - traj)**2 / num_traj / T\n",
    "\n",
    "print(\"Average Squared Error\", err_fltr_ss)"
   ]
  },
  {
   "cell_type": "code",
   "execution_count": 45,
   "metadata": {},
   "outputs": [
    {
     "name": "stdout",
     "output_type": "stream",
     "text": [
      "Trajectory shape (250, 2)\n",
      "Measured shape (250, 1)\n",
      "Filtered shape (250, 2)\n"
     ]
    },
    {
     "data": {
      "image/png": "[encoded data removed]",
      "text/plain": [
       "<Figure size 432x288 with 1 Axes>"
      ]
     },
     "metadata": {
      "needs_background": "light"
     },
     "output_type": "display_data"
    }
   ],
   "source": [
    "plot({'Trajectory': traj[0], 'Measured': meas[0], 'Filtered': kfiltered_ss[0]})"
   ]
  },
  {
   "cell_type": "markdown",
   "metadata": {},
   "source": [
    "### 1c. Kalman Smoothing with Reverse Kalman Filter"
   ]
  },
  {
   "cell_type": "code",
   "execution_count": 33,
   "metadata": {},
   "outputs": [
    {
     "name": "stdout",
     "output_type": "stream",
     "text": [
      "Converged in 77 iterations\n",
      "Converged in 80 iterations\n",
      "Converged in 77 iterations\n",
      "Converged in 80 iterations\n",
      "Converged in 77 iterations\n",
      "Converged in 80 iterations\n",
      "Converged in 77 iterations\n",
      "Converged in 80 iterations\n",
      "Converged in 77 iterations\n",
      "Converged in 80 iterations\n",
      "Converged in 77 iterations\n",
      "Converged in 80 iterations\n",
      "Converged in 77 iterations\n",
      "Converged in 80 iterations\n",
      "Converged in 77 iterations\n",
      "Converged in 80 iterations\n",
      "Converged in 77 iterations\n",
      "Converged in 80 iterations\n",
      "Converged in 77 iterations\n",
      "Converged in 80 iterations\n",
      "Converged in 77 iterations\n",
      "Converged in 80 iterations\n",
      "Converged in 77 iterations\n",
      "Converged in 80 iterations\n",
      "Converged in 77 iterations\n",
      "Converged in 80 iterations\n",
      "Converged in 77 iterations\n",
      "Converged in 80 iterations\n",
      "Converged in 77 iterations\n",
      "Converged in 80 iterations\n",
      "Converged in 77 iterations\n",
      "Converged in 80 iterations\n",
      "Converged in 77 iterations\n",
      "Converged in 80 iterations\n",
      "Converged in 77 iterations\n",
      "Converged in 80 iterations\n",
      "Converged in 77 iterations\n",
      "Converged in 80 iterations\n",
      "Converged in 77 iterations\n",
      "Converged in 80 iterations\n",
      "Converged in 77 iterations\n",
      "Converged in 80 iterations\n",
      "Converged in 77 iterations\n",
      "Converged in 80 iterations\n",
      "Converged in 77 iterations\n",
      "Converged in 80 iterations\n",
      "Converged in 77 iterations\n",
      "Converged in 80 iterations\n",
      "Converged in 77 iterations\n",
      "Converged in 80 iterations\n",
      "Converged in 77 iterations\n",
      "Converged in 80 iterations\n",
      "Converged in 77 iterations\n",
      "Converged in 80 iterations\n",
      "Converged in 77 iterations\n",
      "Converged in 80 iterations\n",
      "Converged in 77 iterations\n",
      "Converged in 80 iterations\n",
      "Converged in 77 iterations\n",
      "Converged in 80 iterations\n",
      "Converged in 77 iterations\n",
      "Converged in 80 iterations\n",
      "Converged in 77 iterations\n",
      "Converged in 80 iterations\n",
      "Converged in 77 iterations\n",
      "Converged in 80 iterations\n",
      "Converged in 77 iterations\n",
      "Converged in 80 iterations\n",
      "Converged in 77 iterations\n",
      "Converged in 80 iterations\n",
      "Converged in 77 iterations\n",
      "Converged in 80 iterations\n",
      "Converged in 77 iterations\n",
      "Converged in 80 iterations\n",
      "Converged in 77 iterations\n",
      "Converged in 80 iterations\n",
      "Converged in 77 iterations\n",
      "Converged in 80 iterations\n",
      "Converged in 77 iterations\n",
      "Converged in 80 iterations\n",
      "Converged in 77 iterations\n",
      "Converged in 80 iterations\n",
      "Converged in 77 iterations\n",
      "Converged in 80 iterations\n",
      "Converged in 77 iterations\n",
      "Converged in 80 iterations\n",
      "Converged in 77 iterations\n",
      "Converged in 80 iterations\n",
      "Converged in 77 iterations\n",
      "Converged in 80 iterations\n",
      "Converged in 77 iterations\n",
      "Converged in 80 iterations\n",
      "Converged in 77 iterations\n",
      "Converged in 80 iterations\n",
      "Converged in 77 iterations\n",
      "Converged in 80 iterations\n",
      "Converged in 77 iterations\n",
      "Converged in 80 iterations\n",
      "Converged in 77 iterations\n",
      "Converged in 80 iterations\n",
      "Converged in 77 iterations\n",
      "Converged in 80 iterations\n",
      "Converged in 77 iterations\n",
      "Converged in 80 iterations\n",
      "Converged in 77 iterations\n",
      "Converged in 80 iterations\n",
      "Converged in 77 iterations\n",
      "Converged in 80 iterations\n",
      "Converged in 77 iterations\n",
      "Converged in 80 iterations\n",
      "Converged in 77 iterations\n",
      "Converged in 80 iterations\n",
      "Converged in 77 iterations\n",
      "Converged in 80 iterations\n",
      "Converged in 77 iterations\n",
      "Converged in 80 iterations\n",
      "Converged in 77 iterations\n",
      "Converged in 80 iterations\n",
      "Converged in 77 iterations\n",
      "Converged in 80 iterations\n",
      "Converged in 77 iterations\n",
      "Converged in 80 iterations\n",
      "Converged in 77 iterations\n",
      "Converged in 80 iterations\n",
      "Converged in 77 iterations\n",
      "Converged in 80 iterations\n",
      "Converged in 77 iterations\n",
      "Converged in 80 iterations\n",
      "Converged in 77 iterations\n",
      "Converged in 80 iterations\n",
      "Converged in 77 iterations\n",
      "Converged in 80 iterations\n",
      "Converged in 77 iterations\n",
      "Converged in 80 iterations\n",
      "Converged in 77 iterations\n",
      "Converged in 80 iterations\n",
      "Converged in 77 iterations\n",
      "Converged in 80 iterations\n",
      "Converged in 77 iterations\n",
      "Converged in 80 iterations\n",
      "Converged in 77 iterations\n",
      "Converged in 80 iterations\n",
      "Converged in 77 iterations\n",
      "Converged in 80 iterations\n",
      "Converged in 77 iterations\n",
      "Converged in 80 iterations\n",
      "Converged in 77 iterations\n",
      "Converged in 80 iterations\n",
      "Converged in 77 iterations\n",
      "Converged in 80 iterations\n",
      "Converged in 77 iterations\n",
      "Converged in 80 iterations\n",
      "Converged in 77 iterations\n",
      "Converged in 80 iterations\n",
      "Converged in 77 iterations\n",
      "Converged in 80 iterations\n",
      "Converged in 77 iterations\n",
      "Converged in 80 iterations\n",
      "Converged in 77 iterations\n",
      "Converged in 80 iterations\n",
      "Converged in 77 iterations\n",
      "Converged in 80 iterations\n",
      "Converged in 77 iterations\n",
      "Converged in 80 iterations\n",
      "Converged in 77 iterations\n",
      "Converged in 80 iterations\n",
      "Converged in 77 iterations\n",
      "Converged in 80 iterations\n",
      "Converged in 77 iterations\n",
      "Converged in 80 iterations\n",
      "Converged in 77 iterations\n",
      "Converged in 80 iterations\n",
      "Converged in 77 iterations\n",
      "Converged in 80 iterations\n",
      "Converged in 77 iterations\n",
      "Converged in 80 iterations\n",
      "Converged in 77 iterations\n",
      "Converged in 80 iterations\n",
      "Converged in 77 iterations\n",
      "Converged in 80 iterations\n",
      "Converged in 77 iterations\n",
      "Converged in 80 iterations\n",
      "Converged in 77 iterations\n",
      "Converged in 80 iterations\n",
      "Converged in 77 iterations\n",
      "Converged in 80 iterations\n",
      "Converged in 77 iterations\n",
      "Converged in 80 iterations\n",
      "Converged in 77 iterations\n",
      "Converged in 80 iterations\n",
      "Converged in 77 iterations\n",
      "Converged in 80 iterations\n",
      "Converged in 77 iterations\n",
      "Converged in 80 iterations\n",
      "Converged in 77 iterations\n",
      "Converged in 80 iterations\n",
      "Converged in 77 iterations\n",
      "Converged in 80 iterations\n",
      "Converged in 77 iterations\n",
      "Converged in 80 iterations\n",
      "Converged in 77 iterations\n",
      "Converged in 80 iterations\n",
      "Converged in 77 iterations\n",
      "Converged in 80 iterations\n",
      "Converged in 77 iterations\n",
      "Converged in 80 iterations\n",
      "Converged in 77 iterations\n",
      "Converged in 80 iterations\n",
      "Converged in 77 iterations\n",
      "Converged in 80 iterations\n",
      "Converged in 77 iterations\n",
      "Converged in 80 iterations\n",
      "Converged in 77 iterations\n",
      "Converged in 80 iterations\n",
      "Converged in 77 iterations\n",
      "Converged in 80 iterations\n",
      "Converged in 77 iterations\n",
      "Converged in 80 iterations\n",
      "Converged in 77 iterations\n",
      "Converged in 80 iterations\n",
      "Converged in 77 iterations\n",
      "Converged in 80 iterations\n",
      "Converged in 77 iterations\n",
      "Converged in 80 iterations\n",
      "Converged in 77 iterations\n",
      "Converged in 80 iterations\n",
      "Converged in 77 iterations\n",
      "Converged in 80 iterations\n",
      "Converged in 77 iterations\n",
      "Converged in 80 iterations\n",
      "Converged in 77 iterations\n",
      "Converged in 80 iterations\n",
      "Converged in 77 iterations\n",
      "Converged in 80 iterations\n",
      "Converged in 77 iterations\n",
      "Converged in 80 iterations\n",
      "Converged in 77 iterations\n",
      "Converged in 80 iterations\n",
      "Converged in 77 iterations\n",
      "Converged in 80 iterations\n",
      "Average Squared Error 0.0019232979272130548\n"
     ]
    }
   ],
   "source": [
    "err_kf_smoothed = 0\n",
    "\n",
    "for i in range(num_traj):\n",
    "    kinematics_forward = KFilter(A, B, C, Q, R, state=x0) # Forward KF\n",
    "    fltr_fwd = kinematics_forward.simulate(meas[i], u_seq[i])\n",
    "    \n",
    "    kinematics_backward = KFilter(np.linalg.inv(A), -np.linalg.inv(A) @ B, C, Q, R, state=traj[i][-1]) # Backward KF\n",
    "    fltr_bkwd = np.flip(kinematics_backward.simulate(np.flip(meas[i], axis=0), np.flip(u_seq[i], axis=0)), axis=0)\n",
    "    \n",
    "    # Kalman Smoothed (Avg forward and backward)\n",
    "    smooth_states = (fltr_fwd + fltr_bkwd) / 2\n",
    "    err_kf_smoothed += np.linalg.norm(smooth_states - traj[i])**2\n",
    "    \n",
    "print(\"Average Squared Error\", err_kf_smoothed / num_traj / T)"
   ]
  },
  {
   "cell_type": "markdown",
   "metadata": {
    "id": "h_YdLlpSuKdO"
   },
   "source": [
    "## 2. Least Squares System ID + Kalman Filtering"
   ]
  },
  {
   "cell_type": "markdown",
   "metadata": {
    "id": "YLUPSPDiuKdO"
   },
   "source": [
    "###  2a Update on the identified system at each timestep\n",
    "The following cell takes about 40 seconds to run.\n",
    "\n",
    "Note - The System Identification as implemented currently requires the state dimension to match the obs dimension. so2 and so3"
   ]
  },
  {
   "cell_type": "code",
   "execution_count": null,
   "metadata": {
    "colab": {
     "base_uri": "https://localhost:8080/",
     "height": 465
    },
    "id": "M1EdzP7kuKdP",
    "outputId": "e0d771bb-5a9b-4c26-b839-b63b66cd5fa4"
   },
   "outputs": [],
   "source": [
    "id_filtered = np.zeros(shape=(num_traj, T, state_dim))\n",
    "\n",
    "for i in range(num_traj):\n",
    "    # Use the same data as before, but now no peeking on what are the actual A, B matrices\n",
    "    A_unk, B_unk = np.zeros(shape=(state_dim, state_dim)), np.zeros(shape=(state_dim, input_dim))\n",
    "    kinematics = KFilter(A_unk, B_unk, C, Q, R, state=x0)\n",
    "    id_fltr = np.zeros(shape=(T,state_dim))\n",
    "    \n",
    "    for t in range(T):\n",
    "        A_found, B_found = system_id(meas[i], t, x0, u_seq[i])\n",
    "        kinematics.A = A_found\n",
    "        kinematics.B = B_found\n",
    "        kinematics.predict(u_seq[i][t])\n",
    "        kinematics.update(meas[i][t])\n",
    "        id_fltr[t] = kinematics.state\n",
    "    id_filtered[i] = id_fltr\n",
    "    \n",
    "err_id_fltr = np.linalg.norm(id_filtered[:, CUT:, :] - traj[:, CUT:, :])**2 / num_traj / T\n",
    "print(\"Average Squared Error\", err_id_fltr)"
   ]
  },
  {
   "cell_type": "code",
   "execution_count": null,
   "metadata": {},
   "outputs": [],
   "source": [
    "plot({'Trajectory': traj[0], 'Measured': meas[0], 'Filtered': id_filtered[0]})"
   ]
  },
  {
   "cell_type": "markdown",
   "metadata": {
    "id": "8bnz6TcJuKdQ"
   },
   "source": [
    "### 2b Kalman filter for each timestep simulated from the start\n",
    "\n",
    "The cell below takes about 5 minutes to run."
   ]
  },
  {
   "cell_type": "code",
   "execution_count": null,
   "metadata": {
    "colab": {
     "base_uri": "https://localhost:8080/",
     "height": 1000
    },
    "id": "37Oi7ACiuKdR",
    "outputId": "5b078637-600f-44c8-959d-cb3296903e12",
    "scrolled": true
   },
   "outputs": [],
   "source": [
    "err_id_fltr_sim = 0\n",
    "id_filtered_simulated = np.zeros(shape=(num_traj, T, state_dim))\n",
    "\n",
    "for i in range(num_traj):\n",
    "    id_fltr_sim = np.zeros(shape=(T,state_dim))\n",
    "    for t in range(1, T):\n",
    "        A_found, B_found = system_id(meas[i], t, x0, u_seq[i])\n",
    "        kinematics = KFilter(A_found, B_found, C, Q, R, x0)\n",
    "        id_fltr_sim[t] = kinematics.simulate(meas[i, :t], u_seq[i, :t])[-1]\n",
    "    id_filtered_simulated[i] = id_fltr_sim\n",
    "    \n",
    "err_id_fltr_sim = np.linalg.norm(id_filtered_simulated[:, CUT:, :] - traj[:, CUT:, :])**2 / num_traj / T\n",
    "print(\"Average Squared Error\", err_id_fltr_sim)"
   ]
  },
  {
   "cell_type": "code",
   "execution_count": null,
   "metadata": {},
   "outputs": [],
   "source": [
    "plot({\"Trajectory:\": traj[0], \"ID + Filtered\": id_filtered_simulated[0]})"
   ]
  },
  {
   "cell_type": "markdown",
   "metadata": {
    "id": "Gwlzu6W2uKdS"
   },
   "source": [
    "## 3. Learning a Kalman Filter at each timestep: A and B are unknown\n",
    "\n",
    "Nonlinear system ID of the Kalman Filter parameters:\n",
    "$$\\tilde{x}_{t+1} = A(I - KC)\\tilde{x}_t + B u_t + AKy_t$$\n",
    "$$\\tilde{x}_{t+1} = A'\\tilde{x}_t + B' u_t + G'y_t $$ \n",
    "\n",
    "where $A' = A(I - KC)$, $B' = B$, $G'= AK$\n",
    "\n",
    "Observations\n",
    "$$y_t = C' x_t$$ \n",
    "\n",
    "The following cell takes around 20 minutes per trajectory that you want to fit your KF on. In general, it is easiest to just train it on one.\n",
    "\n",
    "Note that the learning the Kalman Filter can get roughly the same performance as the optimal Kalman Filter if trained for long enough. "
   ]
  },
  {
   "cell_type": "code",
   "execution_count": null,
   "metadata": {
    "colab": {
     "base_uri": "https://localhost:8080/"
    },
    "id": "2a5M-ueiuKdT",
    "outputId": "45d1fe7f-7410-46fa-8389-a6fdcd75d0b2"
   },
   "outputs": [
    {
     "name": "stdout",
     "output_type": "stream",
     "text": [
      "Iteration 1000 : Loss 11.077436988571739\n",
      "Iteration 2000 : Loss 7.006131074145723\n",
      "Iteration 3000 : Loss 5.5341076661225905\n"
     ]
    }
   ],
   "source": [
    "err_learned_kf = 0\n",
    "learned_kfs = []\n",
    "learned_kfs_simulated = np.zeros(shape=(num_traj, T, state_dim))\n",
    "\n",
    "if True:\n",
    "    i = 0\n",
    "# for i in range(num_traj_train, num_traj):\n",
    "    kinematics = LearnedKFilter(state_dim, input_dim, obs_dim, x0)\n",
    "    kinematics.fit(meas[i], u_seq[i], eps=2, maxIt=15000)\n",
    "    learned_kf_sim = kinematics.simulate(meas[i], u_seq[i])\n",
    "    learned_kfs_simulated[i] = learned_kf_sim\n",
    "    learned_kfs.append(kinematics)\n",
    "\n",
    "    plt.figure()\n",
    "    plt.plot(kinematics.losses[30:])\n",
    "    plt.xlabel(\"Iteration\")\n",
    "    plt.ylabel(\"Loss\")\n",
    "    plt.yscale(\"log\")\n",
    "    plt.xscale(\"log\")\n",
    "    plt.show()\n",
    "\n",
    "    err_learned_kf = np.linalg.norm(learned_kf_sim[CUT:, :] - traj[i,CUT:, :])**2\n",
    "\n",
    "print(\"Average Squared Error\", err_learned_kf / T) #num_traj_test / T)"
   ]
  },
  {
   "cell_type": "code",
   "execution_count": null,
   "metadata": {},
   "outputs": [],
   "source": [
    "learned_kf_sim = kinematics.simulate(meas[i], u_seq[i])\n",
    "learned_kfs_simulated[i] = learned_kf_sim\n",
    "learned_kfs.append(kinematics)\n",
    "plot({'Trajectory': traj[0], \"Measured\":meas[0], \"Optimal KF\": kfiltered[0], \"Learned KF simulated\": learned_kfs_simulated[0]})"
   ]
  },
  {
   "cell_type": "code",
   "execution_count": null,
   "metadata": {},
   "outputs": [],
   "source": [
    "# The cell below is useful to compare the LearnedKF parameters to true parameters of the Kalman Filter\n",
    "# learned_kf = learned_kfs[0]\n",
    "# true_kf = KFilter(A, B, C, Q, R, state=x0)\n",
    "# true_kf.run_till_ss()\n",
    "# print(\"Aprime true is\", A - A @ true_kf.K @ true_kf.C)\n",
    "# print(\"Aprime learned is\", learned_kf.Aprime)\n",
    "# print(\"Bprime true is\", B)\n",
    "# print(\"Bprime learned is\", learned_kf.Bprime)\n",
    "# print(\"Gprime true is\", A @ true_kf.K)\n",
    "# print(\"Gprime learned is\", learned_kf.Gprime)\n",
    "# print(\"Cprime true is\", C)\n",
    "# print(\"Cprime learned is\", learned_kf.Cprime)"
   ]
  },
  {
   "cell_type": "markdown",
   "metadata": {},
   "source": [
    "## ZOH Baseline \n",
    "Quantify the error if we just predict the previous token (identity map) - ie. no learning involved"
   ]
  },
  {
   "cell_type": "code",
   "execution_count": null,
   "metadata": {},
   "outputs": [],
   "source": [
    "error = 0\n",
    "for i in range(num_traj):\n",
    "    for t in range(1,T):\n",
    "        error += np.linalg.norm(meas[i, t] - meas[i, t-1])**2\n",
    "print(\"Error is\", error / num_traj / T)"
   ]
  },
  {
   "cell_type": "markdown",
   "metadata": {},
   "source": [
    "# Transformer-based techniques to learn the dynamics and filter the position"
   ]
  },
  {
   "cell_type": "code",
   "execution_count": null,
   "metadata": {},
   "outputs": [],
   "source": [
    "from transformer import *\n",
    "from transformer_attention import AttentionQKV\n",
    "from transformer_attention import MultiHeadProjection\n",
    "from transformer import PositionEmbedding\n",
    "\n",
    "embed_dim = 36 # use 36-dimensional embedding for now\n",
    "batch_size = 10"
   ]
  },
  {
   "cell_type": "code",
   "execution_count": null,
   "metadata": {},
   "outputs": [],
   "source": [
    "# Training Data\n",
    "indices_train = np.arange(num_traj_train)\n",
    "np.random.shuffle(indices_train)\n",
    "\n",
    "# The input to the model will be a concatenation of the current measured state and the \"u\" input at this timestep\n",
    "target_sequences_train = torch.from_numpy(meas)[indices_train,:,:]\n",
    "input_sequences_train = torch.from_numpy(u_seq)[indices_train,:,:]\n",
    "transformer_input_train = torch.cat((target_sequences_train, input_sequences_train), dim=2)\n",
    "true_positions_train = torch.from_numpy(traj)[indices_train,:,:]\n",
    "\n",
    "\n",
    "# Test Data\n",
    "indices_test = np.arange(num_traj_train, num_traj)\n",
    "traj_test = traj[indices_test,:,:]\n",
    "meas_test = meas[indices_test,:,:]\n",
    "target_sequences_test = torch.from_numpy(meas)[indices_test,:,:]\n",
    "input_sequences_test = torch.from_numpy(u_seq)[indices_test,:,:]\n",
    "transformer_input_test = torch.cat((target_sequences_test, input_sequences_test), dim=2)\n",
    "true_positions_test = torch.from_numpy(traj)[indices_test,:,:]"
   ]
  },
  {
   "cell_type": "markdown",
   "metadata": {},
   "source": [
    "## GPT-style: Transformer Decoder only for Autoregressive generation\n",
    "\n",
    "The following cell takes around 15 minutes to run."
   ]
  },
  {
   "cell_type": "code",
   "execution_count": null,
   "metadata": {},
   "outputs": [],
   "source": [
    "num_epochs = 200\n",
    "\n",
    "gpt_model = TransformerDecoder(seq_input_size=(obs_dim+input_dim), embed_size=embed_dim, output_size=obs_dim,\n",
    "                n_layers=3, n_heads=6, d_filter=256, dropout=None).to(device)\n",
    "optimizer = torch.optim.Adam(gpt_model.parameters())\n",
    "\n",
    "losses = []\n",
    "loss_func = torch.nn.MSELoss(reduction='sum')\n",
    "\n",
    "for i in range(num_epochs):\n",
    "    for batchNum in range(num_traj_train // batch_size):\n",
    "        \n",
    "        transformer_input_batch = transformer_input_train[batchNum*batch_size:(batchNum+1)*batch_size, :, :]\n",
    "        target_sequence_batch = target_sequences_train[batchNum*batch_size:(batchNum+1)*batch_size, :, :]  #TRYING TO HIT NOISY DATA\n",
    "        \n",
    "        decoder_output = gpt_model(transformer_input_batch, decoder_mask=None, mask_future=True, shift_target_sequence_right=True)\n",
    "            \n",
    "        loss = loss_func(decoder_output, target_sequence_batch)\n",
    "        optimizer.zero_grad()\n",
    "        loss.backward()\n",
    "        optimizer.step()\n",
    "        curr_loss = loss.item()\n",
    "        losses.append(curr_loss)\n",
    "        \n",
    "    print('Epoch', i, \": Loss\", curr_loss)"
   ]
  },
  {
   "cell_type": "code",
   "execution_count": null,
   "metadata": {},
   "outputs": [],
   "source": [
    "plt.figure()\n",
    "plt.plot(losses[30:])\n",
    "plt.xlabel(\"Iteration\")\n",
    "plt.ylabel(\"Loss\")\n",
    "plt.yscale(\"log\")\n",
    "plt.show()"
   ]
  },
  {
   "cell_type": "code",
   "execution_count": null,
   "metadata": {},
   "outputs": [],
   "source": [
    "gpt_transformer_sim = gpt_model(transformer_input_test, decoder_mask=None, mask_future=True, shift_target_sequence_right=True)\n",
    "\n",
    "# Index that we want to visualize from the test indices\n",
    "i = 3 # index to visualize (0 through 19)\n",
    "\n",
    "filtered = gpt_transformer_sim.detach().numpy()\n",
    "\n",
    "plot({\"Trajectory\": traj_test[i], \"Measured\": meas_test[i], \"Filtered by GPT\":filtered[i], \"Optimal KF\":kfiltered[i + num_traj_train]})\n",
    "\n",
    "print('Average Squared Error between traj and meas', np.linalg.norm(traj_test - meas_test)**2 / num_traj_test / T)\n",
    "print('Average Squared Error of filtered vs traj', np.linalg.norm(filtered - traj_test)**2 / num_traj_test / T)\n",
    "print('Average Squared Error between filtered and meas', np.linalg.norm(filtered - meas_test)**2 / num_traj_test / T)"
   ]
  },
  {
   "cell_type": "markdown",
   "metadata": {},
   "source": [
    "## BERT-style: Transformer Encoder only, fill in trajectory\n",
    "\n",
    "Note - we are taking advantage of the ground truth (TRUE TRAJECTORY) here! \n",
    "The following cell takes about 15 minutes to run."
   ]
  },
  {
   "cell_type": "code",
   "execution_count": null,
   "metadata": {},
   "outputs": [],
   "source": [
    "num_epochs = 200\n",
    "# p = 0.15 # probability of zeroing out a token\n",
    "\n",
    "bert_model = TransformerEncoder(seq_input_size=(obs_dim+input_dim), # size of the input tokens (obs_dim + input_dim)\n",
    "                embed_size=embed_dim, output_size=state_dim, # trying to hit the actual state (not the observation)\n",
    "                n_layers=4, n_heads=6, d_filter=64, \n",
    "                dropout=None)\n",
    "optimizer = torch.optim.Adam(bert_model.parameters())\n",
    "\n",
    "loss_func = torch.nn.MSELoss(reduction='sum')\n",
    "# losses = []\n",
    "\n",
    "for i in range(num_epochs):\n",
    "    for batchNum in range(num_traj_train // batch_size):\n",
    "        \n",
    "        # Randomly zero-out p% of the tokens in transformer_input_train - different for each batch each time\n",
    "        # If we're trying to hit the true targets, DO NOT MASK!\n",
    "        # mask = torch.bernoulli( (1-p) * torch.ones(size=(batch_size, T) ) )\n",
    "        # mask = mask.repeat(obs_dim+input_dim, 1, 1).permute(1, 2, 0)\n",
    "        transformer_input_batch = transformer_input_train[batchNum*batch_size:(batchNum+1)*batch_size, :, :] # * mask\n",
    "     \n",
    "        # Do not even use the mask at all. Instead, just try to hit true targets. \n",
    "        # FIX THIS\n",
    "        \n",
    "        # transformer_input_batch has shape [batch_size, seq_len, (obs_dim+input_dim)] \n",
    "        \n",
    "        true_positions_batch = true_positions_train[batchNum*batch_size:(batchNum+1)*batch_size, :, :]        \n",
    "        encoder_output = bert_model(transformer_input_batch, encoder_mask=None)\n",
    "\n",
    "        loss = loss_func(encoder_output, true_positions_batch) #,target_sequences_batch)\n",
    "\n",
    "        optimizer.zero_grad()\n",
    "        loss.backward()\n",
    "        optimizer.step()\n",
    "\n",
    "        curr_loss = loss.item()\n",
    "        losses.append(curr_loss)\n",
    "        \n",
    "    print('Epoch', i, \": Loss\", curr_loss)"
   ]
  },
  {
   "cell_type": "code",
   "execution_count": null,
   "metadata": {},
   "outputs": [],
   "source": [
    "plt.figure()\n",
    "plt.plot(losses[30:])\n",
    "plt.xlabel(\"Iteration\")\n",
    "plt.ylabel(\"Loss\")\n",
    "plt.yscale(\"log\")\n",
    "plt.show()"
   ]
  },
  {
   "cell_type": "code",
   "execution_count": null,
   "metadata": {
    "scrolled": true
   },
   "outputs": [],
   "source": [
    "bert_transformer_sim = bert_model(transformer_input_test, encoder_mask=None)\n",
    "\n",
    "# Index that we want to visualize from the test indices\n",
    "i = 0\n",
    "\n",
    "filtered = bert_transformer_sim.detach().numpy()\n",
    "\n",
    "plot({\"Trajectory\": traj_test[i], \"Measured\":meas_test[i], \"Filtered\":filtered[i], \"Optimal KF\":kfiltered[i + num_traj_train]})\n",
    "\n",
    "print('Error between traj and meas', np.linalg.norm(traj_test - meas_test)**2 / num_traj_test / T)\n",
    "print('Average Squared Error of BERT', np.linalg.norm(filtered - traj_test)**2 / num_traj_test / T)\n",
    "print('Error between filtered and meas', np.linalg.norm(filtered - meas_test)**2 / num_traj_test / T)"
   ]
  },
  {
   "cell_type": "code",
   "execution_count": null,
   "metadata": {},
   "outputs": [],
   "source": []
  }
 ],
 "metadata": {
  "accelerator": "GPU",
  "colab": {
   "gpuType": "T4",
   "provenance": []
  },
  "gpuClass": "standard",
  "kernelspec": {
   "display_name": "Python 3",
   "language": "python",
   "name": "python3"
  },
  "language_info": {
   "codemirror_mode": {
    "name": "ipython",
    "version": 3
   },
   "file_extension": ".py",
   "mimetype": "text/x-python",
   "name": "python",
   "nbconvert_exporter": "python",
   "pygments_lexer": "ipython3",
   "version": "3.7.7"
  }
 },
 "nbformat": 4,
 "nbformat_minor": 1
}
