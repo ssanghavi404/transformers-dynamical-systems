{
 "cells": [
  {
   "cell_type": "markdown",
   "metadata": {
    "id": "oWRzstnyuKc9"
   },
   "source": [
    "# Learning Discrete-Time Estimation and Control with Transformers"
   ]
  },
  {
   "cell_type": "code",
   "execution_count": 16,
   "metadata": {
    "id": "asHGUAgpuKdE"
   },
   "outputs": [],
   "source": [
    "from kalman_filter import *\n",
    "import numpy as np\n",
    "import torch\n",
    "torch.set_default_tensor_type(torch.DoubleTensor)\n",
    "rng = np.random.default_rng()\n",
    "\n",
    "from utils import *\n",
    "from trajectories import *\n",
    "\n",
    "CUT = 5 # cutoff the first few datapoints because they have too much noise so it is not a fair comparison.\n",
    "T = 250 # how long to simulate the trajectory # 100\n",
    "num_traj_train = 100; num_traj_test = 20\n",
    "num_traj = num_traj_train + num_traj_test"
   ]
  },
  {
   "cell_type": "markdown",
   "metadata": {
    "id": "hY_3WVBNuKdG"
   },
   "source": [
    "# State Estimation: Continuous State Space \n",
    "\n",
    "Dynamical System:\n",
    "\n",
    "$\\vec{x}_{t+1} = A\\vec{x}_t + B \\vec{u}_t + \\vec{w}_t$ is the Transition Model, where $\\vec{w}_t \\sim \\mathcal{N}(\\vec{0}, Q)$ is process noise\n",
    "\n",
    "$\\vec{y}_t = C\\vec{x}_t + \\vec{v}_t$ is Observation Model, where $\\vec{v}_t \\sim \\mathcal{N}(\\vec{0}, R)$ is sensor noise"
   ]
  },
  {
   "cell_type": "markdown",
   "metadata": {
    "id": "Y5-fmGELuKdH"
   },
   "source": [
    "## Generate Trajectories"
   ]
  },
  {
   "cell_type": "code",
   "execution_count": 17,
   "metadata": {
    "id": "i0YLwOmJuKdJ"
   },
   "outputs": [],
   "source": [
    "task_name = 'spring_mass_damper' # Choose from 'circular', 'motion', 'so3', 'accel', 'spring_mass_damper'\n",
    "A, B, C, Q, R, x0, state_dim, input_dim, obs_dim = sys_params[task_name]\n",
    "\n",
    "u_seq = 0.05 * (rng.random(size=(num_traj, T, input_dim))*2 - 1)\n",
    "traj, meas = generate_traj(num_traj, T, A, B, C, Q, R, x0, u_seq, state_dim, input_dim, obs_dim)\n",
    "# traj  has shape=(num_traj, T, state_dim)\n",
    "# meas  has shape=(num_traj, T, obs_dim)\n",
    "# u_seq has shape=(num_traj, T, input_dim)"
   ]
  },
  {
   "cell_type": "code",
   "execution_count": 18,
   "metadata": {
    "colab": {
     "base_uri": "https://localhost:8080/",
     "height": 430
    },
    "id": "1ntUducAuKdK",
    "outputId": "7ee492ff-1d9f-410e-903a-8516b9c668b2"
   },
   "outputs": [
    {
     "name": "stdout",
     "output_type": "stream",
     "text": [
      "Trajectory shape (250, 2)\n",
      "Measured shape (250, 1)\n"
     ]
    },
    {
     "data": {
      "image/png": "[encoded data removed]",
      "text/plain": [
       "<Figure size 432x288 with 1 Axes>"
      ]
     },
     "metadata": {
      "needs_background": "light"
     },
     "output_type": "display_data"
    }
   ],
   "source": [
    "# plot a sample trajectory and noisy measurements\n",
    "plot({'Trajectory': traj[0], 'Measured': meas[0]})"
   ]
  },
  {
   "cell_type": "markdown",
   "metadata": {},
   "source": [
    "## 0. Optimization Based Approach using known A, B, C to get best possible fit"
   ]
  },
  {
   "cell_type": "code",
   "execution_count": null,
   "metadata": {},
   "outputs": [],
   "source": []
  },
  {
   "cell_type": "markdown",
   "metadata": {
    "id": "bfwa6dbSuKdL"
   },
   "source": [
    "## 1. Kalman Filtering using known A, B, C to estimate $\\mathbb{E}[X_t | y_1, y_2, ... y_n]$"
   ]
  },
  {
   "cell_type": "markdown",
   "metadata": {
    "id": "GITzYUgYuKdM"
   },
   "source": [
    "### 1a. Recalculating gains at each timestep until convergence"
   ]
  },
  {
   "cell_type": "code",
   "execution_count": 26,
   "metadata": {
    "colab": {
     "base_uri": "https://localhost:8080/",
     "height": 812
    },
    "id": "sxpNpH_huKdM",
    "outputId": "78e6ed3c-5642-4754-b729-9826036062d9"
   },
   "outputs": [
    {
     "name": "stdout",
     "output_type": "stream",
     "text": [
      "Converged in 77 iterations\n",
      "Converged in 77 iterations\n",
      "Converged in 77 iterations\n",
      "Converged in 77 iterations\n",
      "Converged in 77 iterations\n",
      "Converged in 77 iterations\n",
      "Converged in 77 iterations\n",
      "Converged in 77 iterations\n",
      "Converged in 77 iterations\n",
      "Converged in 77 iterations\n",
      "Converged in 77 iterations\n",
      "Converged in 77 iterations\n",
      "Converged in 77 iterations\n",
      "Converged in 77 iterations\n",
      "Converged in 77 iterations\n",
      "Converged in 77 iterations\n",
      "Converged in 77 iterations\n",
      "Converged in 77 iterations\n",
      "Converged in 77 iterations\n",
      "Converged in 77 iterations\n",
      "Converged in 77 iterations\n",
      "Converged in 77 iterations\n",
      "Converged in 77 iterations\n",
      "Converged in 77 iterations\n",
      "Converged in 77 iterations\n",
      "Converged in 77 iterations\n",
      "Converged in 77 iterations\n",
      "Converged in 77 iterations\n",
      "Converged in 77 iterations\n",
      "Converged in 77 iterations\n",
      "Converged in 77 iterations\n",
      "Converged in 77 iterations\n",
      "Converged in 77 iterations\n",
      "Converged in 77 iterations\n",
      "Converged in 77 iterations\n",
      "Converged in 77 iterations\n",
      "Converged in 77 iterations\n",
      "Converged in 77 iterations\n",
      "Converged in 77 iterations\n",
      "Converged in 77 iterations\n",
      "Converged in 77 iterations\n",
      "Converged in 77 iterations\n",
      "Converged in 77 iterations\n",
      "Converged in 77 iterations\n",
      "Converged in 77 iterations\n",
      "Converged in 77 iterations\n",
      "Converged in 77 iterations\n",
      "Converged in 77 iterations\n",
      "Converged in 77 iterations\n",
      "Converged in 77 iterations\n",
      "Converged in 77 iterations\n",
      "Converged in 77 iterations\n",
      "Converged in 77 iterations\n",
      "Converged in 77 iterations\n",
      "Converged in 77 iterations\n",
      "Converged in 77 iterations\n",
      "Converged in 77 iterations\n",
      "Converged in 77 iterations\n",
      "Converged in 77 iterations\n",
      "Converged in 77 iterations\n",
      "Converged in 77 iterations\n",
      "Converged in 77 iterations\n",
      "Converged in 77 iterations\n",
      "Converged in 77 iterations\n",
      "Converged in 77 iterations\n",
      "Converged in 77 iterations\n",
      "Converged in 77 iterations\n",
      "Converged in 77 iterations\n",
      "Converged in 77 iterations\n",
      "Converged in 77 iterations\n",
      "Converged in 77 iterations\n",
      "Converged in 77 iterations\n",
      "Converged in 77 iterations\n",
      "Converged in 77 iterations\n",
      "Converged in 77 iterations\n",
      "Converged in 77 iterations\n",
      "Converged in 77 iterations\n",
      "Converged in 77 iterations\n",
      "Converged in 77 iterations\n",
      "Converged in 77 iterations\n",
      "Converged in 77 iterations\n",
      "Converged in 77 iterations\n",
      "Converged in 77 iterations\n",
      "Converged in 77 iterations\n",
      "Converged in 77 iterations\n",
      "Converged in 77 iterations\n",
      "Converged in 77 iterations\n",
      "Converged in 77 iterations\n",
      "Converged in 77 iterations\n",
      "Converged in 77 iterations\n",
      "Converged in 77 iterations\n",
      "Converged in 77 iterations\n",
      "Converged in 77 iterations\n",
      "Converged in 77 iterations\n",
      "Converged in 77 iterations\n",
      "Converged in 77 iterations\n",
      "Converged in 77 iterations\n",
      "Converged in 77 iterations\n",
      "Converged in 77 iterations\n",
      "Converged in 77 iterations\n",
      "Converged in 77 iterations\n",
      "Converged in 77 iterations\n",
      "Converged in 77 iterations\n",
      "Converged in 77 iterations\n",
      "Converged in 77 iterations\n",
      "Converged in 77 iterations\n",
      "Converged in 77 iterations\n",
      "Converged in 77 iterations\n",
      "Converged in 77 iterations\n",
      "Converged in 77 iterations\n",
      "Converged in 77 iterations\n",
      "Converged in 77 iterations\n",
      "Converged in 77 iterations\n",
      "Converged in 77 iterations\n",
      "Converged in 77 iterations\n",
      "Converged in 77 iterations\n",
      "Converged in 77 iterations\n",
      "Converged in 77 iterations\n",
      "Converged in 77 iterations\n",
      "Converged in 77 iterations\n",
      "Average Squared Error: 0.003124071159297723\n"
     ]
    }
   ],
   "source": [
    "kfiltered = np.zeros(shape=(num_traj, T, state_dim))\n",
    "\n",
    "for i in range(num_traj):\n",
    "    kinematics_forward = KFilter(A, B, C, Q, R, state=x0)\n",
    "    kfiltered[i] = kinematics_forward.simulate(meas[i], u_seq[i])\n",
    "    \n",
    "err_fltr = np.linalg.norm(kfiltered - traj)**2 / num_traj / T\n",
    "    \n",
    "print(\"Average Squared Error:\", err_fltr)"
   ]
  },
  {
   "cell_type": "code",
   "execution_count": 27,
   "metadata": {},
   "outputs": [
    {
     "name": "stdout",
     "output_type": "stream",
     "text": [
      "Trajectory shape (250, 2)\n",
      "Measured shape (250, 1)\n",
      "Filtered shape (250, 2)\n"
     ]
    },
    {
     "data": {
      "image/png": "[encoded data removed]",
      "text/plain": [
       "<Figure size 432x288 with 1 Axes>"
      ]
     },
     "metadata": {
      "needs_background": "light"
     },
     "output_type": "display_data"
    }
   ],
   "source": [
    "plot({'Trajectory': traj[0], 'Measured': meas[0], 'Filtered': kfiltered[0]})"
   ]
  },
  {
   "cell_type": "markdown",
   "metadata": {
    "id": "60MZKlivuKdN"
   },
   "source": [
    "### 1b. Kalman Filter with pure steady state gains"
   ]
  },
  {
   "cell_type": "code",
   "execution_count": 28,
   "metadata": {
    "colab": {
     "base_uri": "https://localhost:8080/",
     "height": 812
    },
    "id": "wiowWWmTuKdN",
    "outputId": "2c16a8e8-2b31-4a3e-f490-022bab735890"
   },
   "outputs": [
    {
     "name": "stdout",
     "output_type": "stream",
     "text": [
      "Converged in 0 iterations\n",
      "Converged in 0 iterations\n",
      "Converged in 0 iterations\n",
      "Converged in 0 iterations\n",
      "Converged in 0 iterations\n",
      "Converged in 0 iterations\n",
      "Converged in 0 iterations\n",
      "Converged in 0 iterations\n",
      "Converged in 0 iterations\n",
      "Converged in 0 iterations\n",
      "Converged in 0 iterations\n",
      "Converged in 0 iterations\n",
      "Converged in 0 iterations\n",
      "Converged in 0 iterations\n",
      "Converged in 0 iterations\n",
      "Converged in 0 iterations\n",
      "Converged in 0 iterations\n",
      "Converged in 0 iterations\n",
      "Converged in 0 iterations\n",
      "Converged in 0 iterations\n",
      "Converged in 0 iterations\n",
      "Converged in 0 iterations\n",
      "Converged in 0 iterations\n",
      "Converged in 0 iterations\n",
      "Converged in 0 iterations\n",
      "Converged in 0 iterations\n",
      "Converged in 0 iterations\n",
      "Converged in 0 iterations\n",
      "Converged in 0 iterations\n",
      "Converged in 0 iterations\n",
      "Converged in 0 iterations\n",
      "Converged in 0 iterations\n",
      "Converged in 0 iterations\n",
      "Converged in 0 iterations\n",
      "Converged in 0 iterations\n",
      "Converged in 0 iterations\n",
      "Converged in 0 iterations\n",
      "Converged in 0 iterations\n",
      "Converged in 0 iterations\n",
      "Converged in 0 iterations\n",
      "Converged in 0 iterations\n",
      "Converged in 0 iterations\n",
      "Converged in 0 iterations\n",
      "Converged in 0 iterations\n",
      "Converged in 0 iterations\n",
      "Converged in 0 iterations\n",
      "Converged in 0 iterations\n",
      "Converged in 0 iterations\n",
      "Converged in 0 iterations\n",
      "Converged in 0 iterations\n",
      "Converged in 0 iterations\n",
      "Converged in 0 iterations\n",
      "Converged in 0 iterations\n",
      "Converged in 0 iterations\n",
      "Converged in 0 iterations\n",
      "Converged in 0 iterations\n",
      "Converged in 0 iterations\n",
      "Converged in 0 iterations\n",
      "Converged in 0 iterations\n",
      "Converged in 0 iterations\n",
      "Converged in 0 iterations\n",
      "Converged in 0 iterations\n",
      "Converged in 0 iterations\n",
      "Converged in 0 iterations\n",
      "Converged in 0 iterations\n",
      "Converged in 0 iterations\n",
      "Converged in 0 iterations\n",
      "Converged in 0 iterations\n",
      "Converged in 0 iterations\n",
      "Converged in 0 iterations\n",
      "Converged in 0 iterations\n",
      "Converged in 0 iterations\n",
      "Converged in 0 iterations\n",
      "Converged in 0 iterations\n",
      "Converged in 0 iterations\n",
      "Converged in 0 iterations\n",
      "Converged in 0 iterations\n",
      "Converged in 0 iterations\n",
      "Converged in 0 iterations\n",
      "Converged in 0 iterations\n",
      "Converged in 0 iterations\n",
      "Converged in 0 iterations\n",
      "Converged in 0 iterations\n",
      "Converged in 0 iterations\n",
      "Converged in 0 iterations\n",
      "Converged in 0 iterations\n",
      "Converged in 0 iterations\n",
      "Converged in 0 iterations\n",
      "Converged in 0 iterations\n",
      "Converged in 0 iterations\n",
      "Converged in 0 iterations\n",
      "Converged in 0 iterations\n",
      "Converged in 0 iterations\n",
      "Converged in 0 iterations\n",
      "Converged in 0 iterations\n",
      "Converged in 0 iterations\n",
      "Converged in 0 iterations\n",
      "Converged in 0 iterations\n",
      "Converged in 0 iterations\n",
      "Converged in 0 iterations\n",
      "Converged in 0 iterations\n",
      "Converged in 0 iterations\n",
      "Converged in 0 iterations\n",
      "Converged in 0 iterations\n",
      "Converged in 0 iterations\n",
      "Converged in 0 iterations\n",
      "Converged in 0 iterations\n",
      "Converged in 0 iterations\n",
      "Converged in 0 iterations\n",
      "Converged in 0 iterations\n",
      "Converged in 0 iterations\n",
      "Converged in 0 iterations\n",
      "Converged in 0 iterations\n",
      "Converged in 0 iterations\n",
      "Converged in 0 iterations\n",
      "Converged in 0 iterations\n",
      "Converged in 0 iterations\n",
      "Converged in 0 iterations\n",
      "Converged in 0 iterations\n",
      "Converged in 0 iterations\n",
      "Average Squared Error 0.003145270591104458\n"
     ]
    }
   ],
   "source": [
    "kfiltered_ss = np.zeros(shape=(num_traj, T, state_dim))\n",
    "\n",
    "for i in range(num_traj):\n",
    "    kinematics_forward = KFilter(A, B, C, Q, R, state=x0)\n",
    "    kinematics_forward.run_till_ss()\n",
    "    kfiltered_ss[i] = kinematics_forward.simulate(meas[i], u_seq[i])\n",
    "    \n",
    "err_fltr_ss = np.linalg.norm(kfiltered_ss - traj)**2 / num_traj / T\n",
    "\n",
    "print(\"Average Squared Error\", err_fltr_ss)"
   ]
  },
  {
   "cell_type": "code",
   "execution_count": 29,
   "metadata": {},
   "outputs": [
    {
     "name": "stdout",
     "output_type": "stream",
     "text": [
      "Trajectory shape (250, 2)\n",
      "Measured shape (250, 1)\n",
      "Filtered shape (250, 2)\n"
     ]
    },
    {
     "data": {
      "image/png": "[encoded data removed]",
      "text/plain": [
       "<Figure size 432x288 with 1 Axes>"
      ]
     },
     "metadata": {
      "needs_background": "light"
     },
     "output_type": "display_data"
    }
   ],
   "source": [
    "plot({'Trajectory': traj[0], 'Measured': meas[0], 'Filtered': kfiltered_ss[0]})"
   ]
  },
  {
   "cell_type": "markdown",
   "metadata": {},
   "source": [
    "### 1c. Kalman Smoothing with Reverse Kalman Filter"
   ]
  },
  {
   "cell_type": "code",
   "execution_count": null,
   "metadata": {},
   "outputs": [],
   "source": []
  },
  {
   "cell_type": "markdown",
   "metadata": {
    "id": "h_YdLlpSuKdO"
   },
   "source": [
    "## 2. Least Squares System ID + Kalman Filtering"
   ]
  },
  {
   "cell_type": "markdown",
   "metadata": {
    "id": "YLUPSPDiuKdO"
   },
   "source": [
    "###  2a Update on the identified system at each timestep\n",
    "The following cell takes about 40 seconds to run.\n",
    "\n",
    "Note - The System Identification as implemented currently requires the state dimension to match the obs dimension."
   ]
  },
  {
   "cell_type": "code",
   "execution_count": null,
   "metadata": {
    "colab": {
     "base_uri": "https://localhost:8080/",
     "height": 465
    },
    "id": "M1EdzP7kuKdP",
    "outputId": "e0d771bb-5a9b-4c26-b839-b63b66cd5fa4"
   },
   "outputs": [],
   "source": [
    "id_filtered = np.zeros(shape=(num_traj, T, state_dim))\n",
    "\n",
    "for i in range(num_traj):\n",
    "    # Use the same data as before, but now no peeking on what are the actual A, B matrices\n",
    "    A_unk, B_unk = np.zeros(shape=(state_dim, state_dim)), np.zeros(shape=(state_dim, input_dim))\n",
    "    kinematics = KFilter(A_unk, B_unk, C, Q, R, state=x0)\n",
    "    id_fltr = np.zeros(shape=(T,state_dim))\n",
    "    \n",
    "    for t in range(T):\n",
    "        A_found, B_found = system_id(meas[i], t, x0, u_seq[i])\n",
    "        kinematics.A = A_found\n",
    "        kinematics.B = B_found\n",
    "        kinematics.predict(u_seq[i][t])\n",
    "        kinematics.update(meas[i][t])\n",
    "        id_fltr[t] = kinematics.state\n",
    "    id_filtered[i] = id_fltr\n",
    "    \n",
    "err_id_fltr = np.linalg.norm(id_filtered[:, CUT:, :] - traj[:, CUT:, :])**2 / num_traj / T\n",
    "print(\"Average Squared Error\", err_id_fltr)"
   ]
  },
  {
   "cell_type": "code",
   "execution_count": null,
   "metadata": {},
   "outputs": [],
   "source": [
    "plot({'Trajectory': traj[0], 'Measured': meas[0], 'Filtered': id_filtered[0]})"
   ]
  },
  {
   "cell_type": "markdown",
   "metadata": {
    "id": "8bnz6TcJuKdQ"
   },
   "source": [
    "### 2b Kalman filter for each timestep simulated from the start\n",
    "\n",
    "The cell below takes about 5 minutes to run."
   ]
  },
  {
   "cell_type": "code",
   "execution_count": null,
   "metadata": {
    "colab": {
     "base_uri": "https://localhost:8080/",
     "height": 1000
    },
    "id": "37Oi7ACiuKdR",
    "outputId": "5b078637-600f-44c8-959d-cb3296903e12",
    "scrolled": true
   },
   "outputs": [],
   "source": [
    "err_id_fltr_sim = 0\n",
    "id_filtered_simulated = np.zeros(shape=(num_traj, T, state_dim))\n",
    "\n",
    "for i in range(num_traj):\n",
    "    id_fltr_sim = np.zeros(shape=(T,state_dim))\n",
    "    for t in range(1, T):\n",
    "        A_found, B_found = system_id(meas[i], t, x0, u_seq[i])\n",
    "        kinematics = KFilter(A_found, B_found, C, Q, R, x0)\n",
    "        id_fltr_sim[t] = kinematics.simulate(meas[i, :t], u_seq[i, :t])[-1]\n",
    "    id_filtered_simulated[i] = id_fltr_sim\n",
    "    \n",
    "err_id_fltr_sim = np.linalg.norm(id_filtered_simulated[:, CUT:, :] - traj[:, CUT:, :])**2 / num_traj / T\n",
    "print(\"Average Squared Error\", err_id_fltr_sim)"
   ]
  },
  {
   "cell_type": "code",
   "execution_count": null,
   "metadata": {},
   "outputs": [],
   "source": [
    "plot({\"Trajectory:\": traj[0], \"ID + Filtered\": id_filtered_simulated[0]})"
   ]
  },
  {
   "cell_type": "markdown",
   "metadata": {
    "id": "Gwlzu6W2uKdS"
   },
   "source": [
    "## 3. Learning a Kalman Filter at each timestep: A and B are unknown\n",
    "\n",
    "Nonlinear system ID of the Kalman Filter parameters:\n",
    "$$\\tilde{x}_{t+1} = A(I - KC)\\tilde{x}_t + B u_t + AKy_t$$\n",
    "$$\\tilde{x}_{t+1} = A'\\tilde{x}_t + B' u_t + G'y_t $$ \n",
    "\n",
    "where $A' = A(I - KC)$, $B' = B$, $G'= AK$\n",
    "\n",
    "Observations\n",
    "$$y_t = C' x_t$$ \n",
    "\n",
    "The following cell takes around 20 minutes per trajectory that you want to fit your KF on. In general, it is easiest to just train it on one."
   ]
  },
  {
   "cell_type": "code",
   "execution_count": 11,
   "metadata": {
    "colab": {
     "base_uri": "https://localhost:8080/"
    },
    "id": "2a5M-ueiuKdT",
    "outputId": "45d1fe7f-7410-46fa-8389-a6fdcd75d0b2"
   },
   "outputs": [
    {
     "name": "stdout",
     "output_type": "stream",
     "text": [
      "Iteration 1000 : Loss 10.082481001801952\n",
      "Iteration 2000 : Loss 6.5121326512830136\n"
     ]
    },
    {
     "ename": "KeyboardInterrupt",
     "evalue": "",
     "output_type": "error",
     "traceback": [
      "\u001b[0;31m---------------------------------------------------------------------------\u001b[0m",
      "\u001b[0;31mKeyboardInterrupt\u001b[0m                         Traceback (most recent call last)",
      "\u001b[0;32m<ipython-input-11-e4c29d12a3e3>\u001b[0m in \u001b[0;36m<module>\u001b[0;34m()\u001b[0m\n\u001b[1;32m      7\u001b[0m \u001b[0;31m# for i in range(num_traj_train, num_traj):\u001b[0m\u001b[0;34m\u001b[0m\u001b[0;34m\u001b[0m\u001b[0;34m\u001b[0m\u001b[0m\n\u001b[1;32m      8\u001b[0m     \u001b[0mkinematics\u001b[0m \u001b[0;34m=\u001b[0m \u001b[0mLearnedKFilter\u001b[0m\u001b[0;34m(\u001b[0m\u001b[0mstate_dim\u001b[0m\u001b[0;34m,\u001b[0m \u001b[0minput_dim\u001b[0m\u001b[0;34m,\u001b[0m \u001b[0mobs_dim\u001b[0m\u001b[0;34m,\u001b[0m \u001b[0mx0\u001b[0m\u001b[0;34m)\u001b[0m\u001b[0;34m\u001b[0m\u001b[0;34m\u001b[0m\u001b[0m\n\u001b[0;32m----> 9\u001b[0;31m     \u001b[0mkinematics\u001b[0m\u001b[0;34m.\u001b[0m\u001b[0mfit\u001b[0m\u001b[0;34m(\u001b[0m\u001b[0mmeas\u001b[0m\u001b[0;34m[\u001b[0m\u001b[0mi\u001b[0m\u001b[0;34m]\u001b[0m\u001b[0;34m,\u001b[0m \u001b[0mu_seq\u001b[0m\u001b[0;34m[\u001b[0m\u001b[0mi\u001b[0m\u001b[0;34m]\u001b[0m\u001b[0;34m,\u001b[0m \u001b[0meps\u001b[0m\u001b[0;34m=\u001b[0m\u001b[0;36m2\u001b[0m\u001b[0;34m,\u001b[0m \u001b[0mmaxIt\u001b[0m\u001b[0;34m=\u001b[0m\u001b[0;36m15000\u001b[0m\u001b[0;34m)\u001b[0m\u001b[0;34m\u001b[0m\u001b[0;34m\u001b[0m\u001b[0m\n\u001b[0m\u001b[1;32m     10\u001b[0m     \u001b[0mlearned_kf_sim\u001b[0m \u001b[0;34m=\u001b[0m \u001b[0mkinematics\u001b[0m\u001b[0;34m.\u001b[0m\u001b[0msimulate\u001b[0m\u001b[0;34m(\u001b[0m\u001b[0mmeas\u001b[0m\u001b[0;34m[\u001b[0m\u001b[0mi\u001b[0m\u001b[0;34m]\u001b[0m\u001b[0;34m,\u001b[0m \u001b[0mu_seq\u001b[0m\u001b[0;34m[\u001b[0m\u001b[0mi\u001b[0m\u001b[0;34m]\u001b[0m\u001b[0;34m)\u001b[0m\u001b[0;34m\u001b[0m\u001b[0;34m\u001b[0m\u001b[0m\n\u001b[1;32m     11\u001b[0m     \u001b[0mlearned_kfs_simulated\u001b[0m\u001b[0;34m[\u001b[0m\u001b[0mi\u001b[0m\u001b[0;34m]\u001b[0m \u001b[0;34m=\u001b[0m \u001b[0mlearned_kf_sim\u001b[0m\u001b[0;34m\u001b[0m\u001b[0;34m\u001b[0m\u001b[0m\n",
      "\u001b[0;32m~/Desktop/Research/transformers-dynamical-systems/kalman_filter.py\u001b[0m in \u001b[0;36mfit\u001b[0;34m(self, meas, u_seq, eps, maxIt)\u001b[0m\n\u001b[1;32m    129\u001b[0m             \u001b[0;31m# print('Iteration', i, \": Loss\", curr_loss)\u001b[0m\u001b[0;34m\u001b[0m\u001b[0;34m\u001b[0m\u001b[0;34m\u001b[0m\u001b[0m\n\u001b[1;32m    130\u001b[0m             \u001b[0;32mfor\u001b[0m \u001b[0mt\u001b[0m \u001b[0;32min\u001b[0m \u001b[0mrange\u001b[0m\u001b[0;34m(\u001b[0m\u001b[0mT\u001b[0m\u001b[0;34m-\u001b[0m\u001b[0;36m1\u001b[0m\u001b[0;34m)\u001b[0m\u001b[0;34m:\u001b[0m\u001b[0;34m\u001b[0m\u001b[0;34m\u001b[0m\u001b[0m\n\u001b[0;32m--> 131\u001b[0;31m                 \u001b[0mnext_estimate\u001b[0m \u001b[0;34m=\u001b[0m \u001b[0mself\u001b[0m\u001b[0;34m.\u001b[0m\u001b[0mpredict\u001b[0m\u001b[0;34m(\u001b[0m\u001b[0mcurr_estimate\u001b[0m\u001b[0;34m,\u001b[0m \u001b[0mmeas_torch\u001b[0m\u001b[0;34m[\u001b[0m\u001b[0mt\u001b[0m\u001b[0;34m]\u001b[0m\u001b[0;34m,\u001b[0m \u001b[0mu_torch\u001b[0m\u001b[0;34m[\u001b[0m\u001b[0mt\u001b[0m\u001b[0;34m]\u001b[0m \u001b[0;32mif\u001b[0m \u001b[0mu_seq\u001b[0m \u001b[0;32mis\u001b[0m \u001b[0;32mnot\u001b[0m \u001b[0;32mNone\u001b[0m \u001b[0;32melse\u001b[0m \u001b[0;32mNone\u001b[0m\u001b[0;34m)\u001b[0m\u001b[0;34m\u001b[0m\u001b[0;34m\u001b[0m\u001b[0m\n\u001b[0m\u001b[1;32m    132\u001b[0m                 \u001b[0mnext_obs_estimate\u001b[0m \u001b[0;34m=\u001b[0m \u001b[0mself\u001b[0m\u001b[0;34m.\u001b[0m\u001b[0mCprime\u001b[0m \u001b[0;34m@\u001b[0m \u001b[0mnext_estimate\u001b[0m\u001b[0;34m\u001b[0m\u001b[0;34m\u001b[0m\u001b[0m\n\u001b[1;32m    133\u001b[0m                 \u001b[0mtarget\u001b[0m \u001b[0;34m=\u001b[0m \u001b[0mmeas_torch\u001b[0m\u001b[0;34m[\u001b[0m\u001b[0mt\u001b[0m\u001b[0;34m+\u001b[0m\u001b[0;36m1\u001b[0m\u001b[0;34m]\u001b[0m\u001b[0;34m\u001b[0m\u001b[0;34m\u001b[0m\u001b[0m\n",
      "\u001b[0;32m~/Desktop/Research/transformers-dynamical-systems/kalman_filter.py\u001b[0m in \u001b[0;36mpredict\u001b[0;34m(self, curr_state, measurement, u)\u001b[0m\n\u001b[1;32m    105\u001b[0m             \u001b[0mnextState\u001b[0m \u001b[0;34m=\u001b[0m\u001b[0;31m \u001b[0m\u001b[0;31m\\\u001b[0m\u001b[0;34m\u001b[0m\u001b[0;34m\u001b[0m\u001b[0m\n\u001b[1;32m    106\u001b[0m                 \u001b[0mself\u001b[0m\u001b[0;34m.\u001b[0m\u001b[0mAprime\u001b[0m \u001b[0;34m@\u001b[0m \u001b[0mcurr_state\u001b[0m \u001b[0;34m+\u001b[0m\u001b[0;31m \u001b[0m\u001b[0;31m\\\u001b[0m\u001b[0;34m\u001b[0m\u001b[0;34m\u001b[0m\u001b[0m\n\u001b[0;32m--> 107\u001b[0;31m                 \u001b[0mself\u001b[0m\u001b[0;34m.\u001b[0m\u001b[0mBprime\u001b[0m \u001b[0;34m@\u001b[0m \u001b[0mu\u001b[0m \u001b[0;34m+\u001b[0m\u001b[0;31m \u001b[0m\u001b[0;31m\\\u001b[0m\u001b[0;34m\u001b[0m\u001b[0;34m\u001b[0m\u001b[0m\n\u001b[0m\u001b[1;32m    108\u001b[0m                 \u001b[0mself\u001b[0m\u001b[0;34m.\u001b[0m\u001b[0mGprime\u001b[0m \u001b[0;34m@\u001b[0m \u001b[0mmeasurement\u001b[0m\u001b[0;34m\u001b[0m\u001b[0;34m\u001b[0m\u001b[0m\n\u001b[1;32m    109\u001b[0m         \u001b[0;32mreturn\u001b[0m \u001b[0mnextState\u001b[0m\u001b[0;34m\u001b[0m\u001b[0;34m\u001b[0m\u001b[0m\n",
      "\u001b[0;31mKeyboardInterrupt\u001b[0m: "
     ]
    }
   ],
   "source": [
    "err_learned_kf = 0\n",
    "learned_kfs = []\n",
    "learned_kfs_simulated = np.zeros(shape=(num_traj, T, state_dim))\n",
    "\n",
    "if True:\n",
    "    i = 0\n",
    "# for i in range(num_traj_train, num_traj):\n",
    "    kinematics = LearnedKFilter(state_dim, input_dim, obs_dim, x0)\n",
    "    kinematics.fit(meas[i], u_seq[i], eps=2, maxIt=15000)\n",
    "    learned_kf_sim = kinematics.simulate(meas[i], u_seq[i])\n",
    "    learned_kfs_simulated[i] = learned_kf_sim\n",
    "    learned_kfs.append(kinematics)\n",
    "\n",
    "    plt.figure()\n",
    "    plt.plot(kinematics.losses[30:])\n",
    "    plt.xlabel(\"Iteration\")\n",
    "    plt.ylabel(\"Loss\")\n",
    "    plt.yscale(\"log\")\n",
    "    plt.xscale(\"log\")\n",
    "    plt.show()\n",
    "\n",
    "    err_learned_kf = np.linalg.norm(learned_kf_sim[CUT:, :] - traj[i,CUT:, :])**2\n",
    "\n",
    "print(\"Average Squared Error\", err_learned_kf / T) #num_traj_test / T)"
   ]
  },
  {
   "cell_type": "code",
   "execution_count": 12,
   "metadata": {},
   "outputs": [
    {
     "name": "stdout",
     "output_type": "stream",
     "text": [
      "Trajectory shape (250, 2)\n",
      "Measured shape (250, 1)\n",
      "Optimal KF shape (250, 2)\n",
      "Learned KF simulated shape (250, 2)\n"
     ]
    },
    {
     "data": {
      "image/png": "[encoded data removed]",
      "text/plain": [
       "<Figure size 432x288 with 1 Axes>"
      ]
     },
     "metadata": {
      "needs_background": "light"
     },
     "output_type": "display_data"
    }
   ],
   "source": [
    "learned_kf_sim = kinematics.simulate(meas[i], u_seq[i])\n",
    "learned_kfs_simulated[i] = learned_kf_sim\n",
    "learned_kfs.append(kinematics)\n",
    "plot({'Trajectory': traj[0], \"Measured\":meas[0], \"Optimal KF\": kfiltered[0], \"Learned KF simulated\": learned_kfs_simulated[0]})"
   ]
  },
  {
   "cell_type": "code",
   "execution_count": null,
   "metadata": {},
   "outputs": [],
   "source": [
    "# The cell below is useful to compare the LearnedKF parameters to true parameters of the Kalman Filter\n",
    "# learned_kf = learned_kfs[0]\n",
    "# true_kf = KFilter(A, B, C, Q, R, state=x0)\n",
    "# true_kf.run_till_ss()\n",
    "# print(\"Aprime true is\", A - A @ true_kf.K @ true_kf.C)\n",
    "# print(\"Aprime learned is\", learned_kf.Aprime)\n",
    "# print(\"Bprime true is\", B)\n",
    "# print(\"Bprime learned is\", learned_kf.Bprime)\n",
    "# print(\"Gprime true is\", A @ true_kf.K)\n",
    "# print(\"Gprime learned is\", learned_kf.Gprime)\n",
    "# print(\"Cprime true is\", C)\n",
    "# print(\"Cprime learned is\", learned_kf.Cprime)"
   ]
  },
  {
   "cell_type": "markdown",
   "metadata": {},
   "source": [
    "## ZOH Baseline \n",
    "Quantify the error if we just predict the previous token (identity map) - ie. no learning involved"
   ]
  },
  {
   "cell_type": "code",
   "execution_count": 13,
   "metadata": {},
   "outputs": [
    {
     "name": "stdout",
     "output_type": "stream",
     "text": [
      "Error is 0.021080408080118143\n"
     ]
    }
   ],
   "source": [
    "error = 0\n",
    "for i in range(num_traj):\n",
    "    for t in range(1,T):\n",
    "        error += np.linalg.norm(meas[i, t] - meas[i, t-1])**2\n",
    "print(\"Error is\", error / num_traj / T)"
   ]
  },
  {
   "cell_type": "markdown",
   "metadata": {},
   "source": [
    "# Transformer-based techniques to learn the dynamics and filter the position"
   ]
  },
  {
   "cell_type": "code",
   "execution_count": 38,
   "metadata": {},
   "outputs": [],
   "source": [
    "from transformer import *\n",
    "from transformer_attention import AttentionQKV\n",
    "from transformer_attention import MultiHeadProjection\n",
    "from transformer import PositionEmbedding\n",
    "\n",
    "embed_dim = 36 # use 36-dimensional embedding for now\n",
    "batch_size = 10"
   ]
  },
  {
   "cell_type": "code",
   "execution_count": 39,
   "metadata": {},
   "outputs": [],
   "source": [
    "# Training Data\n",
    "indices_train = np.arange(num_traj_train)\n",
    "np.random.shuffle(indices_train)\n",
    "\n",
    "# The input to the model will be a concatenation of the current measured state and the \"u\" input at this timestep\n",
    "target_sequences_train = torch.from_numpy(meas)[indices_train,:,:]\n",
    "input_sequences_train = torch.from_numpy(u_seq)[indices_train,:,:]\n",
    "transformer_input_train = torch.cat((target_sequences_train, input_sequences_train), dim=2)\n",
    "true_positions_train = torch.from_numpy(traj)[indices_train,:,:]\n",
    "\n",
    "\n",
    "# Test Data\n",
    "indices_test = np.arange(num_traj_train, num_traj)\n",
    "traj_test = traj[indices_test,:,:]\n",
    "meas_test = meas[indices_test,:,:]\n",
    "target_sequences_test = torch.from_numpy(meas)[indices_test,:,:]\n",
    "input_sequences_test = torch.from_numpy(u_seq)[indices_test,:,:]\n",
    "transformer_input_test = torch.cat((target_sequences_test, input_sequences_test), dim=2)\n",
    "true_positions_test = torch.from_numpy(traj)[indices_test,:,:]"
   ]
  },
  {
   "cell_type": "markdown",
   "metadata": {},
   "source": [
    "## GPT-style: Transformer Decoder only for Autoregressive generation\n",
    "\n",
    "The following cell takes around 15 minutes to run."
   ]
  },
  {
   "cell_type": "code",
   "execution_count": 40,
   "metadata": {},
   "outputs": [
    {
     "name": "stdout",
     "output_type": "stream",
     "text": [
      "Epoch 0 : Loss 211.78519375104673\n",
      "Epoch 1 : Loss 149.13403770772072\n",
      "Epoch 2 : Loss 64.07538968367915\n",
      "Epoch 3 : Loss 50.71982253379212\n",
      "Epoch 4 : Loss 45.564257340061395\n",
      "Epoch 5 : Loss 40.13899547699725\n",
      "Epoch 6 : Loss 40.09604727620567\n",
      "Epoch 7 : Loss 38.84031475381555\n",
      "Epoch 8 : Loss 38.55026022819096\n",
      "Epoch 9 : Loss 38.27635582230266\n",
      "Epoch 10 : Loss 37.98014238406238\n",
      "Epoch 11 : Loss 37.879047959406115\n",
      "Epoch 12 : Loss 37.7778524925621\n",
      "Epoch 13 : Loss 37.744293475407744\n",
      "Epoch 14 : Loss 37.68333450993126\n",
      "Epoch 15 : Loss 37.59832275360785\n",
      "Epoch 16 : Loss 37.46790887302727\n",
      "Epoch 17 : Loss 37.33596190373159\n",
      "Epoch 18 : Loss 37.23209740550775\n",
      "Epoch 19 : Loss 37.15806314817348\n",
      "Epoch 20 : Loss 37.10258583769431\n",
      "Epoch 21 : Loss 37.04791556592535\n",
      "Epoch 22 : Loss 36.995423699697966\n",
      "Epoch 23 : Loss 36.94949396607436\n",
      "Epoch 24 : Loss 36.90720209433678\n",
      "Epoch 25 : Loss 36.869531899474836\n",
      "Epoch 26 : Loss 36.83435332942257\n",
      "Epoch 27 : Loss 36.7974219498557\n",
      "Epoch 28 : Loss 36.767726548542726\n",
      "Epoch 29 : Loss 36.740277027805455\n",
      "Epoch 30 : Loss 36.713157178083364\n",
      "Epoch 31 : Loss 36.69093723200472\n",
      "Epoch 32 : Loss 36.667578023792174\n",
      "Epoch 33 : Loss 36.643592766131455\n",
      "Epoch 34 : Loss 36.61961814258525\n",
      "Epoch 35 : Loss 36.59862907549237\n",
      "Epoch 36 : Loss 36.57468801086619\n",
      "Epoch 37 : Loss 36.55063287753006\n",
      "Epoch 38 : Loss 36.525853352348555\n",
      "Epoch 39 : Loss 36.49331801119459\n",
      "Epoch 40 : Loss 36.46241120204384\n",
      "Epoch 41 : Loss 36.42741226553661\n",
      "Epoch 42 : Loss 36.39259002956326\n",
      "Epoch 43 : Loss 36.355881819543924\n",
      "Epoch 44 : Loss 36.319154528226925\n",
      "Epoch 45 : Loss 36.285493940382366\n",
      "Epoch 46 : Loss 36.254574731577314\n",
      "Epoch 47 : Loss 36.229424679365586\n",
      "Epoch 48 : Loss 36.205736468726585\n",
      "Epoch 49 : Loss 36.187311277425536\n",
      "Epoch 50 : Loss 36.16798560270002\n",
      "Epoch 51 : Loss 36.15129869640424\n",
      "Epoch 52 : Loss 36.13497969556724\n",
      "Epoch 53 : Loss 36.11775234160769\n",
      "Epoch 54 : Loss 36.10141661898653\n",
      "Epoch 55 : Loss 36.08694897894949\n",
      "Epoch 56 : Loss 36.06635969987686\n",
      "Epoch 57 : Loss 36.053789699424115\n",
      "Epoch 58 : Loss 36.03579802288414\n",
      "Epoch 59 : Loss 36.02026709828979\n",
      "Epoch 60 : Loss 36.00534653375739\n",
      "Epoch 61 : Loss 35.992598995106476\n",
      "Epoch 62 : Loss 35.975899411281034\n",
      "Epoch 63 : Loss 35.963018137410714\n",
      "Epoch 64 : Loss 35.94622591967753\n",
      "Epoch 65 : Loss 35.92550922945298\n",
      "Epoch 66 : Loss 35.91086528308452\n",
      "Epoch 67 : Loss 35.89239493139526\n",
      "Epoch 68 : Loss 35.870849753889544\n",
      "Epoch 69 : Loss 35.84607671795809\n",
      "Epoch 70 : Loss 35.81318517979148\n",
      "Epoch 71 : Loss 35.78459831390562\n",
      "Epoch 72 : Loss 35.749231689811424\n",
      "Epoch 73 : Loss 35.71382039931918\n",
      "Epoch 74 : Loss 35.67783103890998\n",
      "Epoch 75 : Loss 35.63681484560977\n",
      "Epoch 76 : Loss 35.59925837250536\n",
      "Epoch 77 : Loss 35.56114011393454\n",
      "Epoch 78 : Loss 35.52678335745749\n",
      "Epoch 79 : Loss 35.49283122611887\n",
      "Epoch 80 : Loss 35.46053935034987\n",
      "Epoch 81 : Loss 35.43662784448764\n",
      "Epoch 82 : Loss 35.41401726019932\n",
      "Epoch 83 : Loss 35.40133426520043\n",
      "Epoch 84 : Loss 35.38361204294013\n",
      "Epoch 85 : Loss 35.373357955568444\n",
      "Epoch 86 : Loss 35.3634768846241\n",
      "Epoch 87 : Loss 35.36189888837359\n",
      "Epoch 88 : Loss 35.35722215658691\n",
      "Epoch 89 : Loss 35.3568163518592\n",
      "Epoch 90 : Loss 35.357142666084414\n",
      "Epoch 91 : Loss 35.361550542728345\n",
      "Epoch 92 : Loss 35.36977662653908\n",
      "Epoch 93 : Loss 35.37929203154308\n",
      "Epoch 94 : Loss 35.39555161786333\n",
      "Epoch 95 : Loss 35.40922527747959\n",
      "Epoch 96 : Loss 35.432892548697325\n"
     ]
    },
    {
     "ename": "KeyboardInterrupt",
     "evalue": "",
     "output_type": "error",
     "traceback": [
      "\u001b[0;31m---------------------------------------------------------------------------\u001b[0m",
      "\u001b[0;31mKeyboardInterrupt\u001b[0m                         Traceback (most recent call last)",
      "\u001b[0;32m<ipython-input-40-78e6cd1f5f5b>\u001b[0m in \u001b[0;36m<module>\u001b[0;34m()\u001b[0m\n\u001b[1;32m     18\u001b[0m         \u001b[0mloss\u001b[0m \u001b[0;34m=\u001b[0m \u001b[0mloss_func\u001b[0m\u001b[0;34m(\u001b[0m\u001b[0mdecoder_output\u001b[0m\u001b[0;34m,\u001b[0m \u001b[0mtarget_sequence_batch\u001b[0m\u001b[0;34m)\u001b[0m\u001b[0;34m\u001b[0m\u001b[0;34m\u001b[0m\u001b[0m\n\u001b[1;32m     19\u001b[0m         \u001b[0moptimizer\u001b[0m\u001b[0;34m.\u001b[0m\u001b[0mzero_grad\u001b[0m\u001b[0;34m(\u001b[0m\u001b[0;34m)\u001b[0m\u001b[0;34m\u001b[0m\u001b[0;34m\u001b[0m\u001b[0m\n\u001b[0;32m---> 20\u001b[0;31m         \u001b[0mloss\u001b[0m\u001b[0;34m.\u001b[0m\u001b[0mbackward\u001b[0m\u001b[0;34m(\u001b[0m\u001b[0;34m)\u001b[0m\u001b[0;34m\u001b[0m\u001b[0;34m\u001b[0m\u001b[0m\n\u001b[0m\u001b[1;32m     21\u001b[0m         \u001b[0moptimizer\u001b[0m\u001b[0;34m.\u001b[0m\u001b[0mstep\u001b[0m\u001b[0;34m(\u001b[0m\u001b[0;34m)\u001b[0m\u001b[0;34m\u001b[0m\u001b[0;34m\u001b[0m\u001b[0m\n\u001b[1;32m     22\u001b[0m         \u001b[0mcurr_loss\u001b[0m \u001b[0;34m=\u001b[0m \u001b[0mloss\u001b[0m\u001b[0;34m.\u001b[0m\u001b[0mitem\u001b[0m\u001b[0;34m(\u001b[0m\u001b[0;34m)\u001b[0m\u001b[0;34m\u001b[0m\u001b[0;34m\u001b[0m\u001b[0m\n",
      "\u001b[0;32m~/.pyenv/versions/3.7.7/lib/python3.7/site-packages/torch/tensor.py\u001b[0m in \u001b[0;36mbackward\u001b[0;34m(self, gradient, retain_graph, create_graph)\u001b[0m\n\u001b[1;32m    219\u001b[0m                 \u001b[0mretain_graph\u001b[0m\u001b[0;34m=\u001b[0m\u001b[0mretain_graph\u001b[0m\u001b[0;34m,\u001b[0m\u001b[0;34m\u001b[0m\u001b[0;34m\u001b[0m\u001b[0m\n\u001b[1;32m    220\u001b[0m                 create_graph=create_graph)\n\u001b[0;32m--> 221\u001b[0;31m         \u001b[0mtorch\u001b[0m\u001b[0;34m.\u001b[0m\u001b[0mautograd\u001b[0m\u001b[0;34m.\u001b[0m\u001b[0mbackward\u001b[0m\u001b[0;34m(\u001b[0m\u001b[0mself\u001b[0m\u001b[0;34m,\u001b[0m \u001b[0mgradient\u001b[0m\u001b[0;34m,\u001b[0m \u001b[0mretain_graph\u001b[0m\u001b[0;34m,\u001b[0m \u001b[0mcreate_graph\u001b[0m\u001b[0;34m)\u001b[0m\u001b[0;34m\u001b[0m\u001b[0;34m\u001b[0m\u001b[0m\n\u001b[0m\u001b[1;32m    222\u001b[0m \u001b[0;34m\u001b[0m\u001b[0m\n\u001b[1;32m    223\u001b[0m     \u001b[0;32mdef\u001b[0m \u001b[0mregister_hook\u001b[0m\u001b[0;34m(\u001b[0m\u001b[0mself\u001b[0m\u001b[0;34m,\u001b[0m \u001b[0mhook\u001b[0m\u001b[0;34m)\u001b[0m\u001b[0;34m:\u001b[0m\u001b[0;34m\u001b[0m\u001b[0;34m\u001b[0m\u001b[0m\n",
      "\u001b[0;32m~/.pyenv/versions/3.7.7/lib/python3.7/site-packages/torch/autograd/__init__.py\u001b[0m in \u001b[0;36mbackward\u001b[0;34m(tensors, grad_tensors, retain_graph, create_graph, grad_variables)\u001b[0m\n\u001b[1;32m    130\u001b[0m     Variable._execution_engine.run_backward(\n\u001b[1;32m    131\u001b[0m         \u001b[0mtensors\u001b[0m\u001b[0;34m,\u001b[0m \u001b[0mgrad_tensors_\u001b[0m\u001b[0;34m,\u001b[0m \u001b[0mretain_graph\u001b[0m\u001b[0;34m,\u001b[0m \u001b[0mcreate_graph\u001b[0m\u001b[0;34m,\u001b[0m\u001b[0;34m\u001b[0m\u001b[0;34m\u001b[0m\u001b[0m\n\u001b[0;32m--> 132\u001b[0;31m         allow_unreachable=True)  # allow_unreachable flag\n\u001b[0m\u001b[1;32m    133\u001b[0m \u001b[0;34m\u001b[0m\u001b[0m\n\u001b[1;32m    134\u001b[0m \u001b[0;34m\u001b[0m\u001b[0m\n",
      "\u001b[0;31mKeyboardInterrupt\u001b[0m: "
     ]
    }
   ],
   "source": [
    "num_epochs = 200\n",
    "\n",
    "gpt_model = TransformerDecoder(seq_input_size=(obs_dim+input_dim), embed_size=embed_dim, output_size=obs_dim,\n",
    "                n_layers=3, n_heads=6, d_filter=256, dropout=None).to(device)\n",
    "optimizer = torch.optim.Adam(gpt_model.parameters())\n",
    "\n",
    "losses = []\n",
    "loss_func = torch.nn.MSELoss(reduction='sum')\n",
    "\n",
    "for i in range(num_epochs):\n",
    "    for batchNum in range(num_traj_train // batch_size):\n",
    "        \n",
    "        transformer_input_batch = transformer_input_train[batchNum*batch_size:(batchNum+1)*batch_size, :, :]\n",
    "        target_sequence_batch = target_sequences_train[batchNum*batch_size:(batchNum+1)*batch_size, :, :]  #TRYING TO HIT NOISY DATA\n",
    "        \n",
    "        decoder_output = gpt_model(transformer_input_batch, decoder_mask=None, mask_future=True, shift_target_sequence_right=True)\n",
    "            \n",
    "        loss = loss_func(decoder_output, target_sequence_batch)\n",
    "        optimizer.zero_grad()\n",
    "        loss.backward()\n",
    "        optimizer.step()\n",
    "        curr_loss = loss.item()\n",
    "        losses.append(curr_loss)\n",
    "        \n",
    "    print('Epoch', i, \": Loss\", curr_loss)"
   ]
  },
  {
   "cell_type": "code",
   "execution_count": 43,
   "metadata": {},
   "outputs": [
    {
     "data": {
      "image/png": "[encoded data removed]",
      "text/plain": [
       "<Figure size 432x288 with 1 Axes>"
      ]
     },
     "metadata": {
      "needs_background": "light"
     },
     "output_type": "display_data"
    }
   ],
   "source": [
    "plt.figure()\n",
    "plt.plot(losses[30:])\n",
    "plt.xlabel(\"Iteration\")\n",
    "plt.ylabel(\"Loss\")\n",
    "plt.yscale(\"log\")\n",
    "plt.show()"
   ]
  },
  {
   "cell_type": "code",
   "execution_count": 47,
   "metadata": {},
   "outputs": [
    {
     "name": "stdout",
     "output_type": "stream",
     "text": [
      "Trajectory shape (250, 2)\n",
      "Measured shape (250, 1)\n",
      "Filtered by GPT shape (250, 1)\n",
      "Optimal KF shape (250, 2)\n"
     ]
    },
    {
     "data": {
      "image/png": "[encoded data removed]",
      "text/plain": [
       "<Figure size 432x288 with 1 Axes>"
      ]
     },
     "metadata": {
      "needs_background": "light"
     },
     "output_type": "display_data"
    },
    {
     "name": "stdout",
     "output_type": "stream",
     "text": [
      "Average Squared Error between traj and meas 0.395412476944303\n",
      "Average Squared Error of filtered vs traj 0.3841465487692301\n",
      "Average Squared Error between filtered and meas 0.013949687194007916\n"
     ]
    }
   ],
   "source": [
    "gpt_transformer_sim = gpt_model(transformer_input_test, decoder_mask=None, mask_future=True, shift_target_sequence_right=True)\n",
    "\n",
    "# Index that we want to visualize from the test indices\n",
    "i = 3 # index to visualize (0 through 19)\n",
    "\n",
    "filtered = gpt_transformer_sim.detach().numpy()\n",
    "\n",
    "plot({\"Trajectory\": traj_test[i], \"Measured\": meas_test[i], \"Filtered by GPT\":filtered[i], \"Optimal KF\":kfiltered[i + num_traj_train]})\n",
    "\n",
    "print('Average Squared Error between traj and meas', np.linalg.norm(traj_test - meas_test)**2 / num_traj_test / T)\n",
    "print('Average Squared Error of filtered vs traj', np.linalg.norm(filtered - traj_test)**2 / num_traj_test / T)\n",
    "print('Average Squared Error between filtered and meas', np.linalg.norm(filtered - meas_test)**2 / num_traj_test / T)"
   ]
  },
  {
   "cell_type": "markdown",
   "metadata": {},
   "source": [
    "## BERT-style: Transformer Encoder only, fill in trajectory\n",
    "\n",
    "Note - we are taking advantage of the ground truth (TRUE TRAJECTORY) here! \n",
    "The following cell takes about 15 minutes to run."
   ]
  },
  {
   "cell_type": "code",
   "execution_count": 45,
   "metadata": {},
   "outputs": [
    {
     "name": "stdout",
     "output_type": "stream",
     "text": [
      "Epoch 0 : Loss 660.9425762338324\n",
      "Epoch 1 : Loss 254.89333316424052\n",
      "Epoch 2 : Loss 135.38732434223903\n",
      "Epoch 3 : Loss 84.76844673041322\n",
      "Epoch 4 : Loss 68.54546590252988\n",
      "Epoch 5 : Loss 57.32067689479815\n",
      "Epoch 6 : Loss 48.281570037884734\n",
      "Epoch 7 : Loss 44.220761978762155\n",
      "Epoch 8 : Loss 41.700736775420225\n",
      "Epoch 9 : Loss 40.30750496821949\n",
      "Epoch 10 : Loss 38.98180632668904\n",
      "Epoch 11 : Loss 38.07441651195595\n",
      "Epoch 12 : Loss 37.40623745605631\n",
      "Epoch 13 : Loss 36.77238013484411\n",
      "Epoch 14 : Loss 36.299082424472964\n",
      "Epoch 15 : Loss 35.81058646255914\n",
      "Epoch 16 : Loss 35.382821595626304\n",
      "Epoch 17 : Loss 34.98516426044147\n",
      "Epoch 18 : Loss 34.650638713081804\n",
      "Epoch 19 : Loss 34.369557982737774\n",
      "Epoch 20 : Loss 34.15208039051162\n",
      "Epoch 21 : Loss 33.97866481682922\n",
      "Epoch 22 : Loss 33.832200926953675\n",
      "Epoch 23 : Loss 33.70073902307617\n",
      "Epoch 24 : Loss 33.58972989481075\n",
      "Epoch 25 : Loss 33.47151577633967\n",
      "Epoch 26 : Loss 33.37104735196104\n",
      "Epoch 27 : Loss 33.27508528369719\n",
      "Epoch 28 : Loss 33.17804539605508\n",
      "Epoch 29 : Loss 33.08645605388789\n",
      "Epoch 30 : Loss 33.00233131271166\n",
      "Epoch 31 : Loss 32.92254667180997\n",
      "Epoch 32 : Loss 32.84519358137779\n",
      "Epoch 33 : Loss 32.7778664176834\n",
      "Epoch 34 : Loss 32.71465574249488\n",
      "Epoch 35 : Loss 32.66302423208724\n",
      "Epoch 36 : Loss 32.612898978544266\n",
      "Epoch 37 : Loss 32.5708480778232\n",
      "Epoch 38 : Loss 32.53739381027445\n",
      "Epoch 39 : Loss 32.50587182338457\n",
      "Epoch 40 : Loss 32.47168941202761\n",
      "Epoch 41 : Loss 32.43808345945041\n",
      "Epoch 42 : Loss 32.39860439319504\n",
      "Epoch 43 : Loss 32.348120529978814\n",
      "Epoch 44 : Loss 32.2891755473475\n",
      "Epoch 45 : Loss 32.204651161684374\n",
      "Epoch 46 : Loss 32.10803038529805\n",
      "Epoch 47 : Loss 31.994463237315216\n",
      "Epoch 48 : Loss 31.878274985143413\n",
      "Epoch 49 : Loss 31.759002498064394\n",
      "Epoch 50 : Loss 31.634596120936372\n",
      "Epoch 51 : Loss 31.523744605937576\n",
      "Epoch 52 : Loss 31.42120122136405\n",
      "Epoch 53 : Loss 31.32757669319177\n",
      "Epoch 54 : Loss 31.24408682929989\n",
      "Epoch 55 : Loss 31.16238645206888\n",
      "Epoch 56 : Loss 31.083722019999286\n",
      "Epoch 57 : Loss 30.99843474798592\n",
      "Epoch 58 : Loss 30.921626848377016\n",
      "Epoch 59 : Loss 30.835446019423358\n",
      "Epoch 60 : Loss 30.744241093131166\n",
      "Epoch 61 : Loss 30.6628846338196\n",
      "Epoch 62 : Loss 30.57494839461792\n",
      "Epoch 63 : Loss 30.481673620043264\n",
      "Epoch 64 : Loss 30.393498706117335\n",
      "Epoch 65 : Loss 30.296760353142744\n",
      "Epoch 66 : Loss 30.197391336564863\n",
      "Epoch 67 : Loss 30.09447832207796\n",
      "Epoch 68 : Loss 29.987252372008417\n",
      "Epoch 69 : Loss 29.87968760310864\n",
      "Epoch 70 : Loss 29.762377134564595\n",
      "Epoch 71 : Loss 29.641991629946183\n",
      "Epoch 72 : Loss 29.51457715577046\n",
      "Epoch 73 : Loss 29.37755243454323\n",
      "Epoch 74 : Loss 29.232815811253488\n",
      "Epoch 75 : Loss 29.077696402726225\n",
      "Epoch 76 : Loss 28.914931472252462\n",
      "Epoch 77 : Loss 28.732592183941104\n",
      "Epoch 78 : Loss 28.54243684985743\n",
      "Epoch 79 : Loss 28.344014431663794\n",
      "Epoch 80 : Loss 28.122736330267117\n",
      "Epoch 81 : Loss 27.88812941951144\n",
      "Epoch 82 : Loss 27.642526239378682\n",
      "Epoch 83 : Loss 27.377615152431925\n",
      "Epoch 84 : Loss 27.111913111247105\n",
      "Epoch 85 : Loss 26.82807295066364\n",
      "Epoch 86 : Loss 26.548813996564288\n",
      "Epoch 87 : Loss 26.26553838167078\n",
      "Epoch 88 : Loss 25.987304231805915\n",
      "Epoch 89 : Loss 25.717052222972423\n",
      "Epoch 90 : Loss 25.447586474486585\n",
      "Epoch 91 : Loss 25.187050597487403\n",
      "Epoch 92 : Loss 24.921320507286254\n",
      "Epoch 93 : Loss 24.655086592889354\n",
      "Epoch 94 : Loss 24.377660767339165\n",
      "Epoch 95 : Loss 24.09845334924491\n",
      "Epoch 96 : Loss 23.811198070271928\n",
      "Epoch 97 : Loss 23.526347856902543\n",
      "Epoch 98 : Loss 23.217369470564673\n",
      "Epoch 99 : Loss 22.888399252184275\n",
      "Epoch 100 : Loss 22.558104376084877\n",
      "Epoch 101 : Loss 22.19909328901057\n",
      "Epoch 102 : Loss 21.82597370134077\n",
      "Epoch 103 : Loss 21.43317703700221\n",
      "Epoch 104 : Loss 21.023973226474716\n",
      "Epoch 105 : Loss 20.596639575322417\n",
      "Epoch 106 : Loss 20.126617504308513\n",
      "Epoch 107 : Loss 19.657109396623003\n",
      "Epoch 108 : Loss 19.30012024121413\n",
      "Epoch 109 : Loss 18.87886035402194\n",
      "Epoch 110 : Loss 18.48685304068618\n",
      "Epoch 111 : Loss 18.134219739073977\n",
      "Epoch 112 : Loss 17.81187326827409\n",
      "Epoch 113 : Loss 17.512442467988834\n",
      "Epoch 114 : Loss 17.226477194656443\n",
      "Epoch 115 : Loss 16.957231103778703\n",
      "Epoch 116 : Loss 16.695048309861836\n",
      "Epoch 117 : Loss 16.4437044120796\n",
      "Epoch 118 : Loss 16.19923733244512\n",
      "Epoch 119 : Loss 15.965026209939474\n",
      "Epoch 120 : Loss 15.729691978418794\n",
      "Epoch 121 : Loss 15.49687613929999\n",
      "Epoch 122 : Loss 15.269144074065897\n",
      "Epoch 123 : Loss 15.046589725342777\n",
      "Epoch 124 : Loss 14.833572916997804\n",
      "Epoch 125 : Loss 14.620491969701577\n",
      "Epoch 126 : Loss 14.414529372893657\n",
      "Epoch 127 : Loss 14.214407279464016\n",
      "Epoch 128 : Loss 14.018931238536375\n",
      "Epoch 129 : Loss 13.830634901246064\n",
      "Epoch 130 : Loss 13.650278673405452\n",
      "Epoch 131 : Loss 13.477537146073054\n",
      "Epoch 132 : Loss 13.310042452039099\n",
      "Epoch 133 : Loss 13.153760077220946\n",
      "Epoch 134 : Loss 13.00729473201958\n",
      "Epoch 135 : Loss 12.864178689148538\n",
      "Epoch 136 : Loss 12.724050258784542\n",
      "Epoch 137 : Loss 12.589231531020179\n",
      "Epoch 138 : Loss 12.45487379007194\n",
      "Epoch 139 : Loss 12.323723199626428\n",
      "Epoch 140 : Loss 12.195555316194557\n",
      "Epoch 141 : Loss 12.066452338400858\n",
      "Epoch 142 : Loss 11.939515441731132\n",
      "Epoch 143 : Loss 11.810451732811366\n",
      "Epoch 144 : Loss 11.680731505512059\n",
      "Epoch 145 : Loss 11.549384227479383\n",
      "Epoch 146 : Loss 11.414753281041289\n",
      "Epoch 147 : Loss 11.281814342830103\n",
      "Epoch 148 : Loss 11.1466986601645\n",
      "Epoch 149 : Loss 11.014036882394432\n",
      "Epoch 150 : Loss 10.875021007089174\n",
      "Epoch 151 : Loss 10.742684895997012\n",
      "Epoch 152 : Loss 10.614108876828224\n",
      "Epoch 153 : Loss 10.487137847774834\n",
      "Epoch 154 : Loss 10.365945637439273\n",
      "Epoch 155 : Loss 10.244948165676686\n",
      "Epoch 156 : Loss 10.12714311709694\n",
      "Epoch 157 : Loss 10.014888318066026\n",
      "Epoch 158 : Loss 9.903984640201628\n",
      "Epoch 159 : Loss 9.79634086490216\n",
      "Epoch 160 : Loss 9.692573838252915\n",
      "Epoch 161 : Loss 9.593298845136369\n",
      "Epoch 162 : Loss 9.494621119279381\n",
      "Epoch 163 : Loss 9.400742561211645\n",
      "Epoch 164 : Loss 9.30795494514188\n",
      "Epoch 165 : Loss 9.21847432147201\n",
      "Epoch 166 : Loss 9.128043360965897\n",
      "Epoch 167 : Loss 9.044058026476153\n",
      "Epoch 168 : Loss 8.960566888732643\n",
      "Epoch 169 : Loss 8.879027700408695\n",
      "Epoch 170 : Loss 8.801569064078745\n",
      "Epoch 171 : Loss 8.725155455313885\n",
      "Epoch 172 : Loss 8.649844604688937\n",
      "Epoch 173 : Loss 8.577021182656907\n",
      "Epoch 174 : Loss 8.50584208118619\n",
      "Epoch 175 : Loss 8.439510586951368\n",
      "Epoch 176 : Loss 8.372834292957338\n",
      "Epoch 177 : Loss 8.306822247249334\n",
      "Epoch 178 : Loss 8.244675781434257\n",
      "Epoch 179 : Loss 8.18297517480755\n",
      "Epoch 180 : Loss 8.122921874675548\n",
      "Epoch 181 : Loss 8.062034780251139\n",
      "Epoch 182 : Loss 8.003700714192377\n",
      "Epoch 183 : Loss 7.946822990225089\n",
      "Epoch 184 : Loss 7.8908969369583675\n",
      "Epoch 185 : Loss 7.837933741690673\n",
      "Epoch 186 : Loss 7.785542957547982\n",
      "Epoch 187 : Loss 7.735228183623073\n",
      "Epoch 188 : Loss 7.686679998162622\n",
      "Epoch 189 : Loss 7.6357931086517485\n",
      "Epoch 190 : Loss 7.587762102542311\n",
      "Epoch 191 : Loss 7.542472442777808\n",
      "Epoch 192 : Loss 7.496299879505777\n",
      "Epoch 193 : Loss 7.451371614678649\n",
      "Epoch 194 : Loss 7.405249394883653\n",
      "Epoch 195 : Loss 7.36271305803953\n",
      "Epoch 196 : Loss 7.320354334397257\n",
      "Epoch 197 : Loss 7.27923774354417\n",
      "Epoch 198 : Loss 7.239212688314668\n",
      "Epoch 199 : Loss 7.19899368380053\n"
     ]
    }
   ],
   "source": [
    "num_epochs = 200\n",
    "# p = 0.15 # probability of zeroing out a token\n",
    "\n",
    "bert_model = TransformerEncoder(seq_input_size=(obs_dim+input_dim), # size of the input tokens (obs_dim + input_dim)\n",
    "                embed_size=embed_dim, output_size=state_dim, # trying to hit the actual state (not the observation)\n",
    "                n_layers=4, n_heads=6, d_filter=64, \n",
    "                dropout=None)\n",
    "optimizer = torch.optim.Adam(bert_model.parameters())\n",
    "\n",
    "loss_func = torch.nn.MSELoss(reduction='sum')\n",
    "# losses = []\n",
    "\n",
    "for i in range(num_epochs):\n",
    "    for batchNum in range(num_traj_train // batch_size):\n",
    "        \n",
    "        # Randomly zero-out p% of the tokens in transformer_input_train - different for each batch each time\n",
    "        # If we're trying to hit the true targets, DO NOT MASK!\n",
    "        # mask = torch.bernoulli( (1-p) * torch.ones(size=(batch_size, T) ) )\n",
    "        # mask = mask.repeat(obs_dim+input_dim, 1, 1).permute(1, 2, 0)\n",
    "        transformer_input_batch = transformer_input_train[batchNum*batch_size:(batchNum+1)*batch_size, :, :] # * mask\n",
    "     \n",
    "        # Do not even use the mask at all. Instead, just try to hit true targets. \n",
    "        # FIX THIS\n",
    "        \n",
    "        # transformer_input_batch has shape [batch_size, seq_len, (obs_dim+input_dim)] \n",
    "        \n",
    "        true_positions_batch = true_positions_train[batchNum*batch_size:(batchNum+1)*batch_size, :, :]        \n",
    "        encoder_output = bert_model(transformer_input_batch, encoder_mask=None)\n",
    "\n",
    "        loss = loss_func(encoder_output, true_positions_batch) #,target_sequences_batch)\n",
    "\n",
    "        optimizer.zero_grad()\n",
    "        loss.backward()\n",
    "        optimizer.step()\n",
    "\n",
    "        curr_loss = loss.item()\n",
    "        losses.append(curr_loss)\n",
    "        \n",
    "    print('Epoch', i, \": Loss\", curr_loss)"
   ]
  },
  {
   "cell_type": "code",
   "execution_count": null,
   "metadata": {},
   "outputs": [],
   "source": [
    "plt.figure()\n",
    "plt.plot(losses[30:])\n",
    "plt.xlabel(\"Iteration\")\n",
    "plt.ylabel(\"Loss\")\n",
    "plt.yscale(\"log\")\n",
    "plt.show()"
   ]
  },
  {
   "cell_type": "code",
   "execution_count": null,
   "metadata": {
    "scrolled": true
   },
   "outputs": [],
   "source": [
    "bert_transformer_sim = bert_model(transformer_input_test, encoder_mask=None)\n",
    "\n",
    "# Index that we want to visualize from the test indices\n",
    "i = 0\n",
    "\n",
    "filtered = bert_transformer_sim.detach().numpy()\n",
    "\n",
    "plot({\"Trajectory\": traj_test[i], \"Measured\":meas_test[i], \"Filtered\":filtered[i], \"Optimal KF\":kfiltered[i + num_traj_train]})\n",
    "\n",
    "print('Error between traj and meas', np.linalg.norm(traj_test - meas_test)**2 / num_traj_test / T)\n",
    "print('Average Squared Error of BERT', np.linalg.norm(filtered - traj_test)**2 / num_traj_test / T)\n",
    "print('Error between filtered and meas', np.linalg.norm(filtered - meas_test)**2 / num_traj_test / T)"
   ]
  },
  {
   "cell_type": "code",
   "execution_count": null,
   "metadata": {},
   "outputs": [],
   "source": []
  }
 ],
 "metadata": {
  "accelerator": "GPU",
  "colab": {
   "gpuType": "T4",
   "provenance": []
  },
  "gpuClass": "standard",
  "kernelspec": {
   "display_name": "Python 3",
   "language": "python",
   "name": "python3"
  },
  "language_info": {
   "codemirror_mode": {
    "name": "ipython",
    "version": 3
   },
   "file_extension": ".py",
   "mimetype": "text/x-python",
   "name": "python",
   "nbconvert_exporter": "python",
   "pygments_lexer": "ipython3",
   "version": "3.7.7"
  }
 },
 "nbformat": 4,
 "nbformat_minor": 1
}
