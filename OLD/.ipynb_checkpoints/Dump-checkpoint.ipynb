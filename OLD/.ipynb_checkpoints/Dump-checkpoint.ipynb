{
 "cells": [
  {
   "cell_type": "markdown",
   "metadata": {},
   "source": [
    "# OLD: System Identification: Continuous State-Space"
   ]
  },
  {
   "cell_type": "code",
   "execution_count": 16,
   "metadata": {},
   "outputs": [],
   "source": [
    "import numpy as np\n",
    "from kalman_filter import *\n",
    "import matplotlib.pyplot as plt\n",
    "\n",
    "rng = np.random.default_rng()\n",
    "\n",
    "state_dim = 2 # Dimension of the state-space\n",
    "input_dim = 1 # Dimension of inputs\n",
    "obs_dim = 2 # Dimension of observations\n",
    "T = 250"
   ]
  },
  {
   "cell_type": "code",
   "execution_count": 17,
   "metadata": {},
   "outputs": [],
   "source": [
    "x0 = rng.random(size=state_dim)*6 - 3\n",
    "\n",
    "u_data = rng.random(size=(T,input_dim))*2 - 1 # Inputs ranging from -1 to 1 for each timestep, known\n",
    "A = rng.random(size=(state_dim,state_dim))*6 - 3 # Unknown, trying to learn\n",
    "U, S, Vh = np.linalg.svd(A)\n",
    "A = U @ Vh # Avoid exploding/vanishing behavior by choosing a unitary matrix A.\n",
    "B = rng.random(size=(state_dim, input_dim))*2 - 1  # Unknown, trying to learn\n",
    "Q = np.eye(state_dim) # covariance matrix of process noise\n",
    "x_data = np.zeros(shape=(T, state_dim))\n",
    "\n",
    "x = x0\n",
    "for t in range(T):\n",
    "    w_t = rng.multivariate_normal(mean=np.zeros(state_dim), cov=Q)\n",
    "    u_t = u_data[t]\n",
    "    x = A @ x + w_t + B @ u_t\n",
    "    x_data[t] = x"
   ]
  },
  {
   "cell_type": "markdown",
   "metadata": {},
   "source": [
    "## Test out: Least Squares Approach to solve for A and B"
   ]
  },
  {
   "cell_type": "code",
   "execution_count": 18,
   "metadata": {},
   "outputs": [
    {
     "data": {
      "image/png": "[encoded data removed]",
      "text/plain": [
       "<Figure size 432x288 with 1 Axes>"
      ]
     },
     "metadata": {
      "needs_background": "light"
     },
     "output_type": "display_data"
    }
   ],
   "source": [
    "# least squares approach to recover A for just the first \n",
    "# Solve Mx = c where M is tall\n",
    "errors = []\n",
    "\n",
    "for t in range(state_dim, T):\n",
    "    A_found, B_found = system_id(x_data, t, x0, u_data)\n",
    "    error = np.linalg.norm(A - A_found) + np.linalg.norm(B - B_found)\n",
    "    errors.append(error)\n",
    "    \n",
    "plt.figure()\n",
    "plt.yscale('log')\n",
    "plt.plot(errors)\n",
    "plt.xlabel('Iteration')\n",
    "plt.ylabel('Error')\n",
    "plt.show()"
   ]
  },
  {
   "cell_type": "markdown",
   "metadata": {},
   "source": [
    "## Least-Squares: Fit a linear model that predicts all the true positions from noisy readings. \n",
    "\n",
    "Each state[i] prediction is a linear combination of ALL the states in the trajectory (huh this is dumb...)\n",
    "\n",
    "(This is the baseline for BERT)\n",
    "No it's not, this is dumb and doesn't really make sense. Really what you should be doing is more similar to what you did for the OptimalLS_ForwardReverseKF"
   ]
  },
  {
   "cell_type": "code",
   "execution_count": null,
   "metadata": {},
   "outputs": [],
   "source": [
    "inputs_train_flattened = transformer_input_train.reshape(num_traj_train, T * (obs_dim + input_dim)).detach().numpy()\n",
    "traj_train_flattened = true_positions_train.reshape(num_traj_train, T * state_dim).detach().numpy()\n",
    "\n",
    "# Learned weights\n",
    "weights_learned = np.linalg.lstsq(inputs_train_flattened, traj_train_flattened)[0]\n",
    "\n",
    "inputs_test_flattened = transformer_input_test.reshape(num_traj_test, T * (obs_dim + input_dim)).detach().numpy()\n",
    "traj_test_flattened = true_positions_test.reshape(num_traj_test, T * state_dim).detach().numpy()\n",
    "\n",
    "pred_test = inputs_test_flattened @ weights_learned\n",
    "pred_test_traj = pred_test.reshape(num_traj_test, T, state_dim)\n",
    "\n",
    "## Can you fit it and show what is filtered by Least Squares?\n",
    "error = np.linalg.norm(traj_test_flattened - pred_test)**2\n",
    "print(\"Average Error of Least Squares is\", error / num_traj_test / T)\n",
    "\n",
    "ind_to_vis = 2 # 0 through 19\n",
    "\n",
    "plt.figure()\n",
    "fig, ax = plt.subplots()\n",
    "linetraj = ax.plot(traj_test[ind_to_vis, CUT:, 0], traj_test[ind_to_vis, CUT:, 1], label='Trajectory')\n",
    "# linemeas = ax.plot(meas_test[ind_to_vis, CUT:, 0], meas_test[ind_to_vis, CUT:, 1], label='Measured')\n",
    "linefltr, = ax.plot(kfiltered[ind_to_vis+num_traj_train, CUT:,0], kfiltered[ind_to_vis+num_traj_train, CUT:,1], label=\"Kalman Filter\", color='g')\n",
    "linelstsq = ax.plot(pred_test_traj[ind_to_vis, CUT:, 0], pred_test_traj[ind_to_vis, CUT:, 1], label='Filtered by least squares', color='r')\n",
    "plt.legend()\n",
    "plt.show()\n"
   ]
  },
  {
   "cell_type": "markdown",
   "metadata": {},
   "source": [
    "## Solving the learned Kalman Filter using CVXPY\n",
    "\n",
    "This doesn't actually work since the repeated multiplication by the dynamics jacobian results in a problem that is highly non-convex. The only way to learn the KF is by pytorching through it."
   ]
  },
  {
   "cell_type": "code",
   "execution_count": null,
   "metadata": {},
   "outputs": [],
   "source": [
    "Aprime = cp.Variable((state_dim, state_dim))\n",
    "Bprime = cp.Variable((state_dim, input_dim))\n",
    "Gprime = cp.Variable((state_dim, obs_dim))\n",
    "Cprime = cp.Variable((obs_dim, state_dim))\n",
    "\n",
    "def obj_func_learnkf(ys, us, x0, Aprime, Bprime, Gprime, Cprime):\n",
    "    '''Objective function for learning Kalman Filter Parameters using cvxpy'''\n",
    "    obj = 0\n",
    "    curr_state = x0\n",
    "    for t in range(T-1):\n",
    "        next_estimate = Aprime @ curr_state + Bprime @ us[t] + Gprime @ ys[t]\n",
    "        next_obs_estimate = Cprime @ next_estimate\n",
    "        obj += cp.sum_squares(next_obs_estimate - ys[t+1])\n",
    "        curr_state = next_estimate\n",
    "    return obj\n",
    "\n",
    "# Solve the problem with CVXPY\n",
    "cost = obj_func_learnkf(myMeas, myUseq, x0, Aprime, Bprime, Gprime, Cprime)\n",
    "prob = cp.Problem(cp.Minimize(cost))\n",
    "prob.solve()\n",
    "\n",
    "# Recover the optimal values\n",
    "print(\"\\nThe optimal value is\", prob.value)\n",
    "A_recv = Aprime.value\n",
    "B_recv = Bprime.value\n",
    "G_recv = Gprime.value\n",
    "C_recv = Cprime.value\n",
    "\n",
    "# Recover the positions using the learned KF\n",
    "\n",
    "states = np.zeros(shape=(T, state_size))\n",
    "curr_state = x0\n",
    "for t in range(T):\n",
    "    next_state = A_recv @ curr_state + B_recv @ us[t] + G_recv @ ys[t]\n",
    "    states[t] = next_state\n",
    "    curr_state = next_state\n",
    "\n",
    "print(\"Recovered States\", states)"
   ]
  },
  {
   "cell_type": "markdown",
   "metadata": {},
   "source": [
    "### Train-test split for Transformer data (not needed since in the rewrite, we filter"
   ]
  },
  {
   "cell_type": "code",
   "execution_count": null,
   "metadata": {},
   "outputs": [],
   "source": [
    "# Training Data\n",
    "indices_train = np.arange(num_traj_train)\n",
    "np.random.shuffle(indices_train)\n",
    "\n",
    "# The input to the model will be a concatenation of the current measured state and the \"u\" input at this timestep\n",
    "target_sequences_train = torch.from_numpy(meas)[indices_train,:,:]\n",
    "input_sequences_train = torch.from_numpy(u_seq)[indices_train,:,:]\n",
    "transformer_input_train = torch.cat((target_sequences_train, input_sequences_train), dim=2)\n",
    "true_positions_train = torch.from_numpy(traj)[indices_train,:,:]\n",
    "\n",
    "# Test Data\n",
    "indices_test = np.arange(num_traj_train, num_traj)\n",
    "traj_test = traj[indices_test,:,:]\n",
    "meas_test = meas[indices_test,:,:]\n",
    "target_sequences_test = torch.from_numpy(meas)[indices_test,:,:]\n",
    "input_sequences_test = torch.from_numpy(u_seq)[indices_test,:,:]\n",
    "transformer_input_test = torch.cat((target_sequences_test, input_sequences_test), dim=2)\n",
    "true_positions_test = torch.from_numpy(traj)[indices_test,:,:]"
   ]
  }
 ],
 "metadata": {
  "kernelspec": {
   "display_name": "Python 3",
   "language": "python",
   "name": "python3"
  },
  "language_info": {
   "codemirror_mode": {
    "name": "ipython",
    "version": 3
   },
   "file_extension": ".py",
   "mimetype": "text/x-python",
   "name": "python",
   "nbconvert_exporter": "python",
   "pygments_lexer": "ipython3",
   "version": "3.7.7"
  }
 },
 "nbformat": 4,
 "nbformat_minor": 4
}
